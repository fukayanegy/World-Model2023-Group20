{
  "cells": [
    {
      "cell_type": "markdown",
      "metadata": {
        "id": "HfmtORdYMUTo"
      },
      "source": [
        "# 2023年 世界モデル 第7回演習\n",
        "\n",
        "本演習では，いわゆる世界モデルを用いた強化学習アルゴリズムである **RSSM (Recurrent State Space Model)**[[1]](#scrollTo=J_PCEOJ69prx) と**Dreamer**[[2]](#scrollTo=J_PCEOJ69prx)を実装します．\n",
        "\n",
        "## 目次\n",
        "\n",
        "1. [準備](#scrollTo=yDN8Ohc0Mh8C)\n",
        "2. [環境の設定](#scrollTo=_eayBK1HPV5H)\n",
        "3. [RSSM](#scrollTo=B3rWEGtkA3e_&line=1&uniqifier=1)\n",
        "4. [RSSMの実装](#scrollTo=xJfU7ygCMeJn)\n",
        "5. [補助機能の実装](#scrollTo=WhlVvU3aZ5FC)\n",
        "6. [Dreamerの実装](#scrollTo=keAW0J-qS24Q)\n",
        "7. [エージェントの実装](#scrollTo=GdKZ1S2_boOd)\n",
        "8. [ハイパーパラメータの設定と学習の準備](#scrollTo=QUPWAkpyc9Z-)\n",
        "9. [学習](#scrollTo=yUoI0l9Ee0Tp)\n",
        "10. [結果の確認](#scrollTo=E3F2tAU0kepm)\n",
        "11. [参考文献](##scrollTo=J_PCEOJ69prx&line=4&uniqifier=1)"
      ]
    },
    {
      "cell_type": "markdown",
      "metadata": {
        "id": "yDN8Ohc0Mh8C"
      },
      "source": [
        "## 1.準備\n",
        "まず，演習を行うために必要な準備を行います．"
      ]
    },
    {
      "cell_type": "markdown",
      "metadata": {
        "id": "LXOA_CGxNmTe"
      },
      "source": [
        "この演習では，環境として[PyBullet](https://github.com/bulletphysics/bullet3)を用います．PyBulletは`pip`を用いてインストールします．"
      ]
    },
    {
      "cell_type": "code",
      "execution_count": 4,
      "metadata": {
        "id": "MY7wAYcA1Lii",
        "colab": {
          "base_uri": "https://localhost:8080/",
          "height": 495
        },
        "outputId": "a8598b15-c2cc-46a7-94a6-4cadb82b2c68"
      },
      "outputs": [
        {
          "output_type": "stream",
          "name": "stdout",
          "text": [
            "Collecting setuptools==65.5.0\n",
            "  Downloading setuptools-65.5.0-py3-none-any.whl (1.2 MB)\n",
            "\u001b[2K     \u001b[90m━━━━━━━━━━━━━━━━━━━━━━━━━━━━━━━━━━━━━━━━\u001b[0m \u001b[32m1.2/1.2 MB\u001b[0m \u001b[31m7.6 MB/s\u001b[0m eta \u001b[36m0:00:00\u001b[0m\n",
            "\u001b[?25hCollecting wheel<0.40.0\n",
            "  Downloading wheel-0.38.4-py3-none-any.whl (36 kB)\n",
            "Installing collected packages: wheel, setuptools\n",
            "  Attempting uninstall: wheel\n",
            "    Found existing installation: wheel 0.41.3\n",
            "    Uninstalling wheel-0.41.3:\n",
            "      Successfully uninstalled wheel-0.41.3\n",
            "  Attempting uninstall: setuptools\n",
            "    Found existing installation: setuptools 67.7.2\n",
            "    Uninstalling setuptools-67.7.2:\n",
            "      Successfully uninstalled setuptools-67.7.2\n",
            "\u001b[31mERROR: pip's dependency resolver does not currently take into account all the packages that are installed. This behaviour is the source of the following dependency conflicts.\n",
            "ipython 7.34.0 requires jedi>=0.16, which is not installed.\n",
            "lida 0.0.10 requires fastapi, which is not installed.\n",
            "lida 0.0.10 requires kaleido, which is not installed.\n",
            "lida 0.0.10 requires python-multipart, which is not installed.\n",
            "lida 0.0.10 requires uvicorn, which is not installed.\n",
            "cvxpy 1.3.2 requires setuptools>65.5.1, but you have setuptools 65.5.0 which is incompatible.\u001b[0m\u001b[31m\n",
            "\u001b[0mSuccessfully installed setuptools-65.5.0 wheel-0.38.4\n"
          ]
        },
        {
          "output_type": "display_data",
          "data": {
            "application/vnd.colab-display-data+json": {
              "pip_warning": {
                "packages": [
                  "_distutils_hack",
                  "pkg_resources",
                  "setuptools"
                ]
              }
            }
          },
          "metadata": {}
        }
      ],
      "source": [
        "!pip install setuptools==65.5.0 \"wheel<0.40.0\""
      ]
    },
    {
      "cell_type": "code",
      "execution_count": 5,
      "metadata": {
        "id": "FZaErbWsMOOB",
        "colab": {
          "base_uri": "https://localhost:8080/"
        },
        "outputId": "bafcdd74-b989-4c50-df5f-798e658132e5"
      },
      "outputs": [
        {
          "output_type": "stream",
          "name": "stdout",
          "text": [
            "Collecting pybullet\n",
            "  Downloading pybullet-3.2.5.tar.gz (80.5 MB)\n",
            "\u001b[2K     \u001b[90m━━━━━━━━━━━━━━━━━━━━━━━━━━━━━━━━━━━━━━━━\u001b[0m \u001b[32m80.5/80.5 MB\u001b[0m \u001b[31m14.6 MB/s\u001b[0m eta \u001b[36m0:00:00\u001b[0m\n",
            "\u001b[?25h  Preparing metadata (setup.py) ... \u001b[?25l\u001b[?25hdone\n",
            "Collecting gym==0.21.0\n",
            "  Downloading gym-0.21.0.tar.gz (1.5 MB)\n",
            "\u001b[2K     \u001b[90m━━━━━━━━━━━━━━━━━━━━━━━━━━━━━━━━━━━━━━━━\u001b[0m \u001b[32m1.5/1.5 MB\u001b[0m \u001b[31m35.3 MB/s\u001b[0m eta \u001b[36m0:00:00\u001b[0m\n",
            "\u001b[?25h  Preparing metadata (setup.py) ... \u001b[?25l\u001b[?25hdone\n",
            "Requirement already satisfied: numpy>=1.18.0 in /usr/local/lib/python3.10/dist-packages (from gym==0.21.0) (1.23.5)\n",
            "Requirement already satisfied: cloudpickle>=1.2.0 in /usr/local/lib/python3.10/dist-packages (from gym==0.21.0) (2.2.1)\n",
            "Building wheels for collected packages: gym, pybullet\n",
            "  Building wheel for gym (setup.py) ... \u001b[?25l\u001b[?25hdone\n",
            "  Created wheel for gym: filename=gym-0.21.0-py3-none-any.whl size=1616797 sha256=7e7fa5a270cef696c31c3a8ee4aa1b5414096da0a016a2b12ec30a17cb9207cb\n",
            "  Stored in directory: /root/.cache/pip/wheels/81/aa/90/b67df76370d3916a2189b662cf48da38ce41a4e7e58b6abff5\n",
            "  Building wheel for pybullet (setup.py) ... \u001b[?25l\u001b[?25hdone\n",
            "  Created wheel for pybullet: filename=pybullet-3.2.5-cp310-cp310-linux_x86_64.whl size=99850562 sha256=d0b2ee95f2f1218b00ba33b689d4f9d724b4e88d506e74b72a26f12955f74e7b\n",
            "  Stored in directory: /root/.cache/pip/wheels/6b/fa/1a/c315a5133f0c9bf202a6daa5d70891120e7fe403e06e3407cc\n",
            "Successfully built gym pybullet\n",
            "Installing collected packages: pybullet, gym\n",
            "  Attempting uninstall: gym\n",
            "    Found existing installation: gym 0.25.2\n",
            "    Uninstalling gym-0.25.2:\n",
            "      Successfully uninstalled gym-0.25.2\n",
            "Successfully installed gym-0.21.0 pybullet-3.2.5\n"
          ]
        }
      ],
      "source": [
        "!pip install pybullet gym==0.21.0"
      ]
    },
    {
      "cell_type": "markdown",
      "metadata": {
        "id": "sGdfCWjtN8t-"
      },
      "source": [
        "必要なライブラリをインポートします．今回使うライブラリは，PyBullet以外はColabでは最初から入っていますが，手元の環境で行う場合はこれらのライブラリも`pip`等で事前にインストールする必要があります．"
      ]
    },
    {
      "cell_type": "code",
      "execution_count": 6,
      "metadata": {
        "id": "72zXgw6dMZ3_"
      },
      "outputs": [],
      "source": [
        "import gc\n",
        "import os\n",
        "import time\n",
        "from typing import Any, List, Tuple\n",
        "\n",
        "import gym\n",
        "import matplotlib.pyplot as plt\n",
        "import numpy as np\n",
        "import torch\n",
        "from torch import nn\n",
        "from torch.distributions import Normal\n",
        "from torch.distributions.kl import kl_divergence\n",
        "from torch.nn import functional as F\n",
        "from torch.nn.utils import clip_grad_norm_\n",
        "from torch.utils.tensorboard import SummaryWriter\n",
        "\n",
        "# 可視化のためにTensorBoardを用いるので，Colab上でTensorBoardを表示するための宣言を行う\n",
        "%load_ext tensorboard"
      ]
    },
    {
      "cell_type": "code",
      "source": [
        "import pybullet_envs  # PyBulletの環境をgymに登録する"
      ],
      "metadata": {
        "id": "Mh6RRMCLpX3E"
      },
      "execution_count": 7,
      "outputs": []
    },
    {
      "cell_type": "markdown",
      "metadata": {
        "id": "zVXol8PNO74X"
      },
      "source": [
        "今回の学習にはGPUが必要です．\n",
        "\n",
        "以下のコードを実行して， 結果が'cuda'でなければ「ランタイム」 →　 「ランタイムのタイプを変更」でGPUモードに変更しましょう．"
      ]
    },
    {
      "cell_type": "code",
      "execution_count": 8,
      "metadata": {
        "id": "SM8S09VFO2Y_",
        "colab": {
          "base_uri": "https://localhost:8080/"
        },
        "outputId": "46a628c3-75ad-40a3-a493-57e7835cfe2e"
      },
      "outputs": [
        {
          "output_type": "stream",
          "name": "stdout",
          "text": [
            "cuda\n"
          ]
        }
      ],
      "source": [
        "# torch.deviceを定義．この変数は後々モデルやデータをGPUに転送する時にも使います\n",
        "device = torch.device(\"cuda\" if torch.cuda.is_available() else \"cpu\")\n",
        "print(device)"
      ]
    },
    {
      "cell_type": "markdown",
      "metadata": {
        "id": "bmOEoN-6PLkp"
      },
      "source": [
        "きちんとGPUが使える状態になっているかチェックしておきます． ColabのGPU割り当てにはランダム性があるので人によって結果が違う場合がありますが， どれでも実行には問題ありません（学習にかかる時間に幾らかの差は出ます）．"
      ]
    },
    {
      "cell_type": "code",
      "execution_count": 9,
      "metadata": {
        "id": "P2XwZ-e9O-KM",
        "colab": {
          "base_uri": "https://localhost:8080/"
        },
        "outputId": "0ef02dba-d243-4ca3-ef12-fbcd27d420bb"
      },
      "outputs": [
        {
          "output_type": "stream",
          "name": "stdout",
          "text": [
            "Thu Nov 23 15:28:17 2023       \n",
            "+-----------------------------------------------------------------------------+\n",
            "| NVIDIA-SMI 525.105.17   Driver Version: 525.105.17   CUDA Version: 12.0     |\n",
            "|-------------------------------+----------------------+----------------------+\n",
            "| GPU  Name        Persistence-M| Bus-Id        Disp.A | Volatile Uncorr. ECC |\n",
            "| Fan  Temp  Perf  Pwr:Usage/Cap|         Memory-Usage | GPU-Util  Compute M. |\n",
            "|                               |                      |               MIG M. |\n",
            "|===============================+======================+======================|\n",
            "|   0  Tesla T4            Off  | 00000000:00:04.0 Off |                    0 |\n",
            "| N/A   38C    P8     9W /  70W |      3MiB / 15360MiB |      0%      Default |\n",
            "|                               |                      |                  N/A |\n",
            "+-------------------------------+----------------------+----------------------+\n",
            "                                                                               \n",
            "+-----------------------------------------------------------------------------+\n",
            "| Processes:                                                                  |\n",
            "|  GPU   GI   CI        PID   Type   Process name                  GPU Memory |\n",
            "|        ID   ID                                                   Usage      |\n",
            "|=============================================================================|\n",
            "|  No running processes found                                                 |\n",
            "+-----------------------------------------------------------------------------+\n"
          ]
        }
      ],
      "source": [
        "!nvidia-smi"
      ]
    },
    {
      "cell_type": "markdown",
      "metadata": {
        "id": "_eayBK1HPV5H"
      },
      "source": [
        "## 2.環境の設定"
      ]
    },
    {
      "cell_type": "markdown",
      "metadata": {
        "id": "bvrA4khsPelK"
      },
      "source": [
        "環境を扱いやすくするために，いくつかラッパーを挟みます．\n",
        "\n",
        "今回はPyBulletを画像入力の環境として用います．環境を作成して，画像がどのようになっているかを見てみましょう．"
      ]
    },
    {
      "cell_type": "code",
      "execution_count": 10,
      "metadata": {
        "id": "byt7c-EYPQP3",
        "colab": {
          "base_uri": "https://localhost:8080/",
          "height": 435
        },
        "outputId": "59f1114e-f832-4a42-ba5d-6c6a154226fb"
      },
      "outputs": [
        {
          "output_type": "display_data",
          "data": {
            "text/plain": [
              "<Figure size 640x480 with 1 Axes>"
            ],
            "image/png": "[encoded data removed]"
          },
          "metadata": {}
        }
      ],
      "source": [
        "env = gym.make(\"HalfCheetahBulletEnv-v0\")  # 環境を読み込む．\n",
        "env.reset()\n",
        "image = env.render(mode=\"rgb_array\")  # env.renderで画像を取得\n",
        "plt.imshow(image)\n",
        "plt.show()\n",
        "env.close()"
      ]
    },
    {
      "cell_type": "markdown",
      "metadata": {
        "id": "FKaLnTipP98p"
      },
      "source": [
        "画像が無事表示されたでしょうか．\n",
        "\n",
        "中央に見える２本足の何かを前方に走らせるのが`HalfCheetah`のタスクです．\n",
        "\n",
        "上記画像ではカメラの位置が遠いので，カメラの位置と角度を調整するラッパーを作成します．\n",
        "\n",
        "また，同時に通常は低次元の状態を観測として用いる環境である`HalfCheetahBulletEnv-v0`を画像を観測として用いる環境として扱えるようにしておきます"
      ]
    },
    {
      "cell_type": "code",
      "execution_count": 11,
      "metadata": {
        "id": "KWcf0WHzPvw-"
      },
      "outputs": [],
      "source": [
        "class GymWrapper_PyBullet(object):\n",
        "    \"\"\"\n",
        "    PyBullet環境のためのラッパー\n",
        "    \"\"\"\n",
        "\n",
        "    metadata = {\"render.modes\": [\"human\", \"rgb_array\"]}\n",
        "    reward_range = (-np.inf, np.inf)\n",
        "\n",
        "    # __init__でカメラ位置に関するパラメータ（ cam_dist:カメラ距離，cam_yaw：カメラの水平面での回転，cam_pitch:カメラの縦方向での回転）を受け取り，カメラの位置を調整できるようにします.\n",
        "    # 　同時に画像の大きさも変更できるようにします\n",
        "    def __init__(\n",
        "        self,\n",
        "        env: gym.Env,\n",
        "        cam_dist: int = 3,\n",
        "        cam_yaw: int = 0,\n",
        "        cam_pitch: int = -30,\n",
        "        render_width: int = 320,\n",
        "        render_height: int = 240,\n",
        "    ) -> None:\n",
        "        \"\"\"\n",
        "        コンストラクタ．\n",
        "\n",
        "        Parameters\n",
        "        ----------\n",
        "        env : gym.Env\n",
        "            gymで提供されている環境のインスタンス．\n",
        "        cam_dist : int\n",
        "            カメラの距離．\n",
        "        cam_yaw : int\n",
        "            カメラの水平面での回転．\n",
        "        cam_pitch : int\n",
        "            カメラの縦方向での回転．\n",
        "        render_width : int\n",
        "            観測画像の幅．\n",
        "        render_height : int\n",
        "            観測画像の高さ．\n",
        "        \"\"\"\n",
        "        self._env = env\n",
        "        self._env.env._cam_dist = cam_dist\n",
        "        self._env.env._cam_yaw = cam_yaw\n",
        "        self._env.env._cam_pitch = cam_pitch\n",
        "        self._env.env._render_width = render_width\n",
        "        self._env.env._render_height = render_height\n",
        "\n",
        "    def __getattr(self, name: str) -> Any:\n",
        "        \"\"\"\n",
        "        環境が保持している属性値を取得するメソッド．\n",
        "\n",
        "        Parameters\n",
        "        ----------\n",
        "        name : str\n",
        "            取得したい属性値の名前．\n",
        "\n",
        "        Returns\n",
        "        -------\n",
        "        _env.name : Any\n",
        "            環境が保持している属性値．\n",
        "        \"\"\"\n",
        "        return getattr(self._env, name)\n",
        "\n",
        "    @property\n",
        "    def observation_space(self) -> gym.spaces.Box:\n",
        "        \"\"\"\n",
        "        観測空間に関する情報を取得するメソッド．\n",
        "\n",
        "        Returns\n",
        "        -------\n",
        "        space : gym.spaces.Box\n",
        "            観測空間に関する情報（各画素値の最小値，各画素値の最大値，観測データの形状， データの型）．\n",
        "        \"\"\"\n",
        "        width = self._env.env._render_width\n",
        "        height = self._env.env._render_height\n",
        "        return gym.spaces.Box(0, 255, (height, width, 3), dtype=np.uint8)\n",
        "\n",
        "    @property\n",
        "    def action_space(self) -> gym.spaces.Box:\n",
        "        \"\"\"\n",
        "        行動空間に関する情報を取得するメソッド．\n",
        "\n",
        "        Returns\n",
        "        -------\n",
        "        space : gym.spaces.Box\n",
        "            行動空間に関する情報（各行動の最小値，各行動の最大値，行動空間の次元， データの型） ．\n",
        "        \"\"\"\n",
        "        return self._env.action_space\n",
        "\n",
        "    # 　元の観測（低次元の状態）は今回は捨てて，env.render()で取得した画像を観測とします.\n",
        "    #  画像，報酬，終了シグナルが得られます.\n",
        "    def step(self, action: np.ndarray) -> (np.ndarray, float, bool, dict):\n",
        "        \"\"\"\n",
        "        環境に行動を与え次の観測，報酬，終了フラグを取得するメソッド．\n",
        "\n",
        "        Parameters\n",
        "        ----------\n",
        "        action : np.dnarray (action_dim, )\n",
        "            与える行動．\n",
        "\n",
        "        Returns\n",
        "        -------\n",
        "        obs : np.ndarray (height, width, 3)\n",
        "            行動を与えたときの次の観測．\n",
        "        reward : float\n",
        "            行動を与えたときに得られる報酬．\n",
        "        done : bool\n",
        "            エピソードが終了したかどうか表すフラグ．\n",
        "        info : dict\n",
        "            その他の環境に関する情報．\n",
        "        \"\"\"\n",
        "        _, reward, done, info = self._env.step(action)\n",
        "        obs = self._env.render(mode=\"rgb_array\")\n",
        "        return obs, reward, done, info\n",
        "\n",
        "    def reset(self) -> np.ndarray:\n",
        "        \"\"\"\n",
        "        環境をリセットするためのメソッド．\n",
        "\n",
        "        Returns\n",
        "        -------\n",
        "        obs : np.ndarray (height, width, 3)\n",
        "            環境をリセットしたときの初期の観測．\n",
        "        \"\"\"\n",
        "        self._env.reset()\n",
        "        obs = self._env.render(mode=\"rgb_array\")\n",
        "        return obs\n",
        "\n",
        "    def render(self, mode=\"human\", **kwargs) -> np.ndarray:\n",
        "        \"\"\"\n",
        "        観測をレンダリングするためのメソッド．\n",
        "\n",
        "        Parameters\n",
        "        ----------\n",
        "        mode : str\n",
        "            レンダリング方法に関するオプション． (default='human')\n",
        "\n",
        "        Returns\n",
        "        -------\n",
        "        obs : np.ndarray (height, width, 3)\n",
        "            観測をレンダリングした結果．\n",
        "        \"\"\"\n",
        "        return self._env.render(mode, **kwargs)\n",
        "\n",
        "    def close(self) -> None:\n",
        "        \"\"\"\n",
        "        環境を閉じるためのメソッド．\n",
        "        \"\"\"\n",
        "        self._env.close()"
      ]
    },
    {
      "cell_type": "markdown",
      "metadata": {
        "id": "p1Bc5PvTQ_05"
      },
      "source": [
        "環境にラッパーを適用します．同時にカメラ位置に関するパラメータを与えて，カメラの位置と角度を調整します．（今回カメラのパラメータは人力で決めています．環境が変わると調整し直す必要があるかもしれません）．また，画像の大きさも同時に64x64に変更しています．"
      ]
    },
    {
      "cell_type": "code",
      "execution_count": 12,
      "metadata": {
        "id": "UkQyA1i6Q5BB"
      },
      "outputs": [],
      "source": [
        "env = gym.make(\"HalfCheetahBulletEnv-v0\")\n",
        "# カメラのパラメータを与えてカメラの位置と角度，画像の大きさを調整\n",
        "env = GymWrapper_PyBullet(\n",
        "    env, cam_dist=2, cam_pitch=0, render_width=64, render_height=64\n",
        ")"
      ]
    },
    {
      "cell_type": "markdown",
      "metadata": {
        "id": "ofJaPcapRiHK"
      },
      "source": [
        "もう一度画像を確認してみましょう．"
      ]
    },
    {
      "cell_type": "code",
      "execution_count": 13,
      "metadata": {
        "id": "z33JbCqOQ-6b",
        "colab": {
          "base_uri": "https://localhost:8080/",
          "height": 432
        },
        "outputId": "69920f43-1963-499a-9064-34cad0d4f150"
      },
      "outputs": [
        {
          "output_type": "display_data",
          "data": {
            "text/plain": [
              "<Figure size 640x480 with 1 Axes>"
            ],
            "image/png": "[encoded data removed]"
          },
          "metadata": {}
        }
      ],
      "source": [
        "env.reset()\n",
        "image = env.render(mode=\"rgb_array\")\n",
        "plt.imshow(image)\n",
        "plt.show()\n",
        "env.close()"
      ]
    },
    {
      "cell_type": "markdown",
      "metadata": {
        "id": "AOeH1hMgRkQq"
      },
      "source": [
        "カメラの位置が変わりました．これで元の観測より学習データとして扱いやすくなったと思います．"
      ]
    },
    {
      "cell_type": "markdown",
      "metadata": {
        "id": "3S_8zY_zSAoz"
      },
      "source": [
        "また，より環境を扱いやすくするために，同じ行動を何度か繰り返すラッパーを挟みます．"
      ]
    },
    {
      "cell_type": "code",
      "execution_count": 14,
      "metadata": {
        "id": "RaNhyssqRhXm"
      },
      "outputs": [],
      "source": [
        "class RepeatAction(gym.Wrapper):\n",
        "    \"\"\"\n",
        "    同じ行動を指定された回数自動的に繰り返すラッパー．観測は最後の行動に対応するものになる\n",
        "    \"\"\"\n",
        "\n",
        "    def __init__(self, env: GymWrapper_PyBullet, skip: int = 4) -> None:\n",
        "        \"\"\"\n",
        "        コンストラクタ．\n",
        "\n",
        "        Parameters\n",
        "        ----------\n",
        "        env : GymWrapper_PyBullet\n",
        "            環境のインスタンス．今回は先程定義したラッパーでラップした環境を利用する．\n",
        "        skip : int\n",
        "            同じ行動を繰り返す回数．\n",
        "        \"\"\"\n",
        "        gym.Wrapper.__init__(self, env)\n",
        "        self._skip = skip\n",
        "\n",
        "    def reset(self) -> np.ndarray:\n",
        "        \"\"\"\n",
        "        環境をリセットするためのメソッド．\n",
        "\n",
        "        Returns\n",
        "        -------\n",
        "        obs : np.ndarray (width, height, 3)\n",
        "            環境をリセットしたときの初期の観測．\n",
        "        \"\"\"\n",
        "        return self.env.reset()\n",
        "\n",
        "    def step(self, action: np.ndarray) -> (np.ndarray, float, bool, dict):\n",
        "        \"\"\"\n",
        "        環境に行動を与え次の観測，報酬，終了フラグを取得するメソッド．\n",
        "        与えられた行動をskipの回数だけ繰り返した結果を返す．\n",
        "\n",
        "        Parameters\n",
        "        ----------\n",
        "        action : np.ndarray (action_dim, )\n",
        "            与える行動．\n",
        "\n",
        "        Returns\n",
        "        -------\n",
        "        obs : np.ndarray (width, height, 3)\n",
        "            行動をskipの回数だけ繰り返したあとの観測．\n",
        "        total_reawrd : float\n",
        "            行動をskipの回数だけ繰り返したときの報酬和．\n",
        "        done : bool\n",
        "            エピソードが終了したかどうか表すフラグ．\n",
        "        info : dict\n",
        "            その他の環境に関する情報．\n",
        "        \"\"\"\n",
        "        total_reward = 0.0\n",
        "        for _ in range(self._skip):\n",
        "            obs, reward, done, info = self.env.step(action)\n",
        "            total_reward += reward\n",
        "            if done:\n",
        "                break\n",
        "        return obs, total_reward, done, info"
      ]
    },
    {
      "cell_type": "markdown",
      "metadata": {
        "id": "5cOMwPsSSQqD"
      },
      "source": [
        "以上でラッパーに関する話は終わりです．これまでに作成したラッパーをまとめて適用し，最終的に用いる環境を作成する関数を実装して，本題のアルゴリズムの実装に移りましょう．"
      ]
    },
    {
      "cell_type": "code",
      "execution_count": 15,
      "metadata": {
        "id": "q18Zg5DmSKhe"
      },
      "outputs": [],
      "source": [
        "def make_env() -> RepeatAction:\n",
        "    \"\"\"\n",
        "    作成たラッパーをまとめて適用して環境を作成する関数．\n",
        "\n",
        "    Returns\n",
        "    -------\n",
        "    env : RepeatAction\n",
        "        ラッパーを適用した環境．\n",
        "    \"\"\"\n",
        "    env = gym.make(\"HalfCheetahBulletEnv-v0\")  # 環境を読み込む．今回はHalfCheetah\n",
        "    # Dreamerでは観測は64x64のRGB画像\n",
        "    env = GymWrapper_PyBullet(\n",
        "        env, cam_dist=2, cam_pitch=0, render_width=64, render_height=64\n",
        "    )\n",
        "    env = RepeatAction(env, skip=2)  # DreamerではActionRepeatは2\n",
        "    return env"
      ]
    },
    {
      "cell_type": "markdown",
      "metadata": {
        "id": "B3rWEGtkA3e_"
      },
      "source": [
        "## 3.RSSM\n",
        "RSSMは以下のパーツに分けることができます．\n",
        "\n",
        "**Deterministic state model:**\n",
        "> $h_{t}=f(h_{t-1}, s_{t-1}, a_{t-1})$\n",
        "\n",
        "**Stochastic state model:**\n",
        "> $s_{t}$ ~ $p(s_{t} | h_{t})$\n",
        "\n",
        "**Observation model:**\n",
        "> $o_{t}$ ~ $p(o_{t} | h_{t}, s_{t})$\n",
        "\n",
        "**Reward model:**\n",
        "> $r_{t}$~ $p(r_{t} | h_{t}, s_{t})$\n",
        "\n",
        "[以下の画像](https://towardsai.net/p/machine-learning/dreamer-8b5a42acebbf)は1つの時間ステップでのRSSMの挙動を示しています．\n",
        "\n",
        "![1stepあたりの模式図](https://cdn-images-1.medium.com/max/1024/1*4b2l7Fr4eavQV5ZMouCT-g.png)\n",
        "\n",
        "\n",
        "\n",
        "Deterministic state modelで，RNNは，前の時間ステップの行動$a_{t-1}$と事後確率状態$s'_{t-1}$，決定論的状態$h_{t-1}$を入力とし，決定論的状態$h_t$を出力します．\n",
        "\n",
        "$h_{t}$は (1)事前状態確率$s_{t}$を計算するために，1つの隠れ層を持つMLPに供給され （本実装では線形変換），(2)事後確率状態$s'_{t}$を計算するために，画像埋め込み$e_t$（本実装では`embedded_obs`と表現される）と連結され，別の単層MLP（線形変換）に供給されます．\n",
        "\n",
        "その後，$h_{t}$と$s'_{t}$を連結したものを用いて，画像や報酬などを再構成します．\n",
        "\n",
        "\n",
        "\n",
        "\n",
        "\n",
        "\n"
      ]
    },
    {
      "cell_type": "markdown",
      "metadata": {
        "id": "xJfU7ygCMeJn"
      },
      "source": [
        "## 4.RSSMの実装\n",
        "\n",
        "\n",
        "上記をもとにRSSMの実装を行います．実装では，以下の3つのクラスに分けて実装します．\n",
        "\n",
        "* 状態遷移を担うクラス(TransitionModel)\n",
        "* 観測を復元するデコーダクラス(ObservationMode)\n",
        "* 報酬を予測するクラス(RewardModel)\n",
        "\n",
        "※TransitionModelは上記Deterministic state model, Stochastic state modelを合体させています．\n"
      ]
    },
    {
      "cell_type": "markdown",
      "metadata": {
        "id": "rXXUwovNMeJq"
      },
      "source": [
        "まず実装するのがTransitionModelです．\n",
        "\n",
        "1ステップ先の未来の状態表現を予測する機能を担います．\n",
        "\n",
        "学習の方針として，状態遷移を用いた1ステップ先の未来の状態表現の分布である\"prior\"と，1ステップ先の観測の情報を取り込んで計算した状態表現の分布である\"posterior\"が一致するように学習します．\n",
        "\n",
        "\"posterior\"は後に観測の再構成誤差と報酬の予測誤差によって学習されるので，\"posterior\"は上記の2つの誤差によって妥当な状態表現になるように学習され，同時に\"prior\"をそれに近づけることで，状態表現の空間で未来の予測が可能になるように学習する，というイメージです．よって，これを踏まえたクラスの実装になっています．\n",
        "\n",
        "状態表現として，決定的な状態である\"rnn_hidden\"と，確率的な状態である\"state\"の両方を持っています．"
      ]
    },
    {
      "cell_type": "code",
      "execution_count": 16,
      "metadata": {
        "id": "bUt9Lp3HMeJq"
      },
      "outputs": [],
      "source": [
        "class TransitionModel(nn.Module):\n",
        "    \"\"\"\n",
        "    状態遷移を担うクラス．このクラスは複数の要素を含んでいます．\n",
        "    決定的状態遷移 （RNN) : h_t+1 = f(h_t, s_t, a_t)\n",
        "    確率的状態遷移による1ステップ予測として定義される \"prior\" : p(s_t+1 | h_t+1)\n",
        "    観測の情報を取り込んで定義される \"posterior\": q(s_t+1 | h_t+1, e_t+1)\n",
        "    \"\"\"\n",
        "\n",
        "    def __init__(\n",
        "        self,\n",
        "        state_dim: int,\n",
        "        action_dim: int,\n",
        "        rnn_hidden_dim: int,\n",
        "        hidden_dim: int = 200,\n",
        "        min_stddev: float = 0.1,\n",
        "        act: \"function\" = F.elu,\n",
        "    ) -> None:\n",
        "        \"\"\"\n",
        "        コンストラクタ．\n",
        "\n",
        "        Parameters\n",
        "        ----------\n",
        "        state_dim : int\n",
        "            確率的状態sの次元数．\n",
        "        action_dim : int\n",
        "            行動空間の次元数．\n",
        "        rnn_hidden_dim : int\n",
        "            決定的状態hの次元数．\n",
        "        hidden_dim : int\n",
        "            線形層(fc_state_action, fc_rnn_hidden, fc_rnn_hidden_embedded_obs)の\n",
        "            出力の次元数．\n",
        "        min_stddev : float\n",
        "            確率状態遷移の標準偏差の最小値．\n",
        "        act : function\n",
        "            活性化関数．\n",
        "        \"\"\"\n",
        "        super(TransitionModel, self).__init__()\n",
        "        self.state_dim = state_dim\n",
        "        self.action_dim = action_dim\n",
        "        self.rnn_hidden_dim = rnn_hidden_dim\n",
        "        self.fc_state_action = nn.Linear(state_dim + action_dim, hidden_dim)\n",
        "\n",
        "        self.fc_rnn_hidden = nn.Linear(rnn_hidden_dim, hidden_dim)\n",
        "        self.fc_state_mean_prior = nn.Linear(hidden_dim, state_dim)\n",
        "        self.fc_state_stddev_prior = nn.Linear(hidden_dim, state_dim)\n",
        "        self.fc_rnn_hidden_embedded_obs = nn.Linear(rnn_hidden_dim + 1024, hidden_dim)\n",
        "        self.fc_state_mean_posterior = nn.Linear(hidden_dim, state_dim)\n",
        "        self.fc_state_stddev_posterior = nn.Linear(hidden_dim, state_dim)\n",
        "\n",
        "        # next hidden stateを計算\n",
        "        self.rnn = nn.GRUCell(hidden_dim, rnn_hidden_dim)\n",
        "        self._min_stddev = min_stddev\n",
        "        self.act = act\n",
        "\n",
        "    def forward(\n",
        "        self,\n",
        "        state: torch.Tensor,\n",
        "        action: torch.Tensor,\n",
        "        rnn_hidden: torch.Tensor,\n",
        "        embedded_next_obs: torch.Tensor,\n",
        "    ) -> Tuple[torch.Tensor]:\n",
        "        \"\"\"\n",
        "        prior p(s_t+1 | h_t+1) と posterior q(s_t+1 | h_t+1, e_t+1) を返すメソッド．\n",
        "        この2つが近づくように学習する．\n",
        "\n",
        "        Parameters\n",
        "        ----------\n",
        "        state : torch.Tensor (batch size, state dim)\n",
        "            時刻tの状態(s_t)．\n",
        "        action : torch.Tensor (batch size, action dim)\n",
        "            時刻tの行動(a_t)．\n",
        "        rnn_hidden : torch.Tensor (batch size, rnn hidden dim)\n",
        "            RNNが保持している決定的状態(h_t)．\n",
        "        embedded_next_obs : torch.Tensor (batch size, 1024)\n",
        "            時刻t+1の観測をエンコードしたもの(e_t+1)．\n",
        "\n",
        "        Returns\n",
        "        -------\n",
        "        next_state_prior : torch.Tensor (batch size, state dim)\n",
        "            prior(p(s_t+1 | h_t+1))による次の時刻の状態の予測．\n",
        "        next_state_posterior : torch.Tensor (batch size, state dim)\n",
        "            posterior(q(s_t+1 | h_t+1, e_t+1))による次の時刻の状態の予測．\n",
        "        rnn_hidden : torch.Tensor (batch size, rnn hidden dim)\n",
        "            RNNが保持する次の決定的状態(h_t+1)．\n",
        "        \"\"\"\n",
        "        next_state_prior, rnn_hidden = self.prior(\n",
        "            self.recurrent(state, action, rnn_hidden)\n",
        "        )\n",
        "        next_state_posterior = self.posterior(rnn_hidden, embedded_next_obs)\n",
        "        return next_state_prior, next_state_posterior, rnn_hidden\n",
        "\n",
        "    def recurrent(\n",
        "        self, state: torch.Tensor, action: torch.Tensor, rnn_hidden: torch.Tensor\n",
        "    ) -> torch.Tensor:\n",
        "        \"\"\"\n",
        "        決定的状態 h_t+1 = f(h_t, s_t, a_t)を計算するメソッド．\n",
        "\n",
        "        Parameters\n",
        "        ----------\n",
        "        state : torch.Tensor (batch size, state dim)\n",
        "            時刻tの状態(s_t)．\n",
        "        action : torch.Tensor (batch size, action dim)\n",
        "            時刻tの行動(a_t)．\n",
        "        rnn_hidden : torch.Tensor (batch size, rnn hidden dim)\n",
        "            RNNが保持している決定的状態(h_t)．\n",
        "\n",
        "        Returns\n",
        "        -------\n",
        "        rnn_hidden : torch.Tensor (batch size, rnn hidden dim)\n",
        "            RNNが保持する次の決定的状態(h_t+1)．\n",
        "        \"\"\"\n",
        "        hidden = self.act(self.fc_state_action(torch.cat([state, action], dim=1)))\n",
        "        # h_t+1を求める\n",
        "        rnn_hidden = self.rnn(hidden, rnn_hidden)\n",
        "        return rnn_hidden\n",
        "\n",
        "    def prior(self, rnn_hidden: torch.Tensor) -> Tuple[torch.Tensor]:\n",
        "        \"\"\"\n",
        "        prior p(s_t+1 | h_t+1) を計算するメソッド．\n",
        "\n",
        "        Parameters\n",
        "        ----------\n",
        "        rnn_hidden : torch.Tensor (batch size, rnn hidden dim)\n",
        "            RNNが保持している決定的状態(h_t+1)．\n",
        "\n",
        "        Returns\n",
        "        -------\n",
        "        state : torch.Tensor (batch size, state dim)\n",
        "            決定的状態を用いてサンプリングされた確率的な状態(s_t+1)．\n",
        "            ここでは決定的状態h_t+1からガウス分布の平均，標準偏差を推定してサンプリングしています．\n",
        "        rnn_hidden : torch.Tensor (batch size, rnn hidden dim)\n",
        "            RNNが保持する決定的状態(h_t+1)．\n",
        "            入力からのものをそのまま返しています．\n",
        "        \"\"\"\n",
        "        #h_t+1を求める（ヒント: self.act, self.fc_rnn_hiddenを使用）\n",
        "        hidden = self.act(self.fc_rnn_hidden(rnn_hidden))  # WRITE ME\n",
        "\n",
        "        mean = self.fc_state_mean_prior(hidden)\n",
        "        stddev = F.softplus(self.fc_state_stddev_prior(hidden)) + self._min_stddev\n",
        "        return Normal(mean, stddev), rnn_hidden\n",
        "\n",
        "    def posterior(\n",
        "        self, rnn_hidden: torch.Tensor, embedded_obs: torch.Tensor\n",
        "    ) -> torch.Tensor:\n",
        "        \"\"\"\n",
        "        posterior q(s_t+1 | h_t+1, e_t+1)  を計算するメソッド．\n",
        "\n",
        "        Parameters\n",
        "        ----------\n",
        "        rnn_hidden : torch.Tensor (batch size, rnn hidden dim)\n",
        "            RNNが保持している決定的状態(h_t+1)．\n",
        "        embedded_obs : torch.Tensor (batch size, 1024)\n",
        "            時刻t+1の観測をエンコードしたもの．\n",
        "\n",
        "        Returns\n",
        "        -------\n",
        "        state : torch.Tensor (batch size, state dim)\n",
        "            決定的状態とエンコードした観測を用いてサンプリングされた確率的な状態(s_t+1)．\n",
        "            ここでは決定的状態h_t+1とエンコードした観測e_t+1からガウス分布の平均，標準偏差を推定してサンプリングしています．\n",
        "        \"\"\"\n",
        "        # h_t+1，o_t+1を結合し，q(s_t+1 | h_t+1, e_t+1) を計算する\n",
        "        hidden = self.fc_rnn_hidden_embedded_obs(torch.cat([rnn_hidden, embedded_obs], dim=1)) # WRITE ME\n",
        "        mean = self.fc_state_mean_posterior(hidden)\n",
        "        stddev = F.softplus(self.fc_state_stddev_posterior(hidden)) + self._min_stddev\n",
        "        return Normal(mean, stddev)"
      ]
    },
    {
      "cell_type": "markdown",
      "metadata": {
        "id": "9k4Pcf0qMeJq"
      },
      "source": [
        "次に，観測を再構成するデコーダを実装します．"
      ]
    },
    {
      "cell_type": "code",
      "execution_count": 17,
      "metadata": {
        "id": "VmsUzBFYMeJq"
      },
      "outputs": [],
      "source": [
        "class ObservationModel(nn.Module):\n",
        "    \"\"\"\n",
        "    p(o_t | s_t, h_t)\n",
        "    低次元の状態表現から画像を再構成するデコーダ (3, 64, 64)\n",
        "    \"\"\"\n",
        "\n",
        "    def __init__(self, state_dim: int, rnn_hidden_dim: int) -> None:\n",
        "        \"\"\"\n",
        "        コンストラクタ．\n",
        "\n",
        "        Parameters\n",
        "        ----------\n",
        "        state_dim : int\n",
        "            確率的状態sの次元数．\n",
        "        rnn_hidden_dim : int\n",
        "            決定的状態hの次元数．\n",
        "        \"\"\"\n",
        "        super(ObservationModel, self).__init__()\n",
        "        self.fc = nn.Linear(state_dim + rnn_hidden_dim, 1024)\n",
        "        self.dc1 = nn.ConvTranspose2d(1024, 128, kernel_size=5, stride=2)\n",
        "        self.dc2 = nn.ConvTranspose2d(128, 64, kernel_size=5, stride=2)\n",
        "        self.dc3 = nn.ConvTranspose2d(64, 32, kernel_size=6, stride=2)\n",
        "        self.dc4 = nn.ConvTranspose2d(32, 3, kernel_size=6, stride=2)\n",
        "\n",
        "    def forward(self, state: torch.Tensor, rnn_hidden: torch.Tensor) -> torch.Tensor:\n",
        "        \"\"\"\n",
        "        順伝播を行うメソッド．確率的状態sと決定的状態hから観測を再構成する．\n",
        "\n",
        "        Parameters\n",
        "        ----------\n",
        "        state : torch.Tensor (batch size, state dim)\n",
        "            確率的状態s．\n",
        "        rnn_hidden : torch.Tensor (batch size, rnn_hidden_dim)\n",
        "            決定的状態h．\n",
        "\n",
        "        Returns\n",
        "        -------\n",
        "        obs : torch.Tensor (batch size, 3, 64, 64)\n",
        "            再構成された観測o．\n",
        "        \"\"\"\n",
        "        hidden = self.fc(torch.cat([state, rnn_hidden], dim=1))\n",
        "        hidden = hidden.view(hidden.size(0), 1024, 1, 1)\n",
        "        hidden = F.relu(self.dc1(hidden))\n",
        "        hidden = F.relu(self.dc2(hidden))\n",
        "        hidden = F.relu(self.dc3(hidden))\n",
        "        obs = self.dc4(hidden)\n",
        "        return obs"
      ]
    },
    {
      "cell_type": "markdown",
      "metadata": {
        "id": "duKz6wCto9Fa"
      },
      "source": [
        "次に，報酬を予測するRewardモデルを実装します．"
      ]
    },
    {
      "cell_type": "code",
      "execution_count": 18,
      "metadata": {
        "id": "4c0l4yGSo9Fk"
      },
      "outputs": [],
      "source": [
        "class RewardModel(nn.Module):\n",
        "    \"\"\"\n",
        "    p(r_t | s_t, h_t)\n",
        "    低次元の状態表現から報酬を予測する．\n",
        "    \"\"\"\n",
        "\n",
        "    def __init__(\n",
        "        self,\n",
        "        state_dim: int,\n",
        "        rnn_hidden_dim: int,\n",
        "        hidden_dim: int = 400,\n",
        "        act: \"function\" = F.elu,\n",
        "    ) -> None:\n",
        "        \"\"\"\n",
        "        コンストラクタ．\n",
        "\n",
        "        Parameters\n",
        "        ----------\n",
        "        state_dim : int\n",
        "            確率的状態sの次元数．\n",
        "        rnn_hidden_dim : int\n",
        "            決定的状態hの次元数．\n",
        "        hidden_dim : int\n",
        "            報酬モデルの隠れ層の次元数． (default=400)\n",
        "        act : function\n",
        "            報酬モデルに利用される活性化関数． (default=torch.nn.functional.elu)\n",
        "        \"\"\"\n",
        "        super(RewardModel, self).__init__()\n",
        "        self.fc1 = nn.Linear(state_dim + rnn_hidden_dim, hidden_dim)\n",
        "        self.fc2 = nn.Linear(hidden_dim, hidden_dim)\n",
        "        self.fc3 = nn.Linear(hidden_dim, hidden_dim)\n",
        "        self.fc4 = nn.Linear(hidden_dim, 1)\n",
        "        self.act = act\n",
        "\n",
        "    def forward(self, state: torch.Tensor, rnn_hidden: torch.Tensor) -> torch.Tensor:\n",
        "        \"\"\"\n",
        "        順伝播を行うメソッド．確率的状態sと決定的状態hから報酬rを推定する．\n",
        "\n",
        "        Parameters\n",
        "        ----------\n",
        "        state : torch.Tensor (batch size, state dim)\n",
        "            確率的状態s．\n",
        "        rnn_hidden : torch.Tensor (batch size, rnn_hidden_dim)\n",
        "            決定的状態h．\n",
        "\n",
        "        Returns\n",
        "        -------\n",
        "        reward : torch.Tensor (batch size, 1)\n",
        "            確率的状態s，決定的状態hに対する報酬r．\n",
        "        \"\"\"\n",
        "        hidden = self.act(self.fc1(torch.cat([state, rnn_hidden], dim=1)))\n",
        "        hidden = self.act(self.fc2(hidden))\n",
        "        hidden = self.act(self.fc3(hidden))\n",
        "        reward = self.fc4(hidden)\n",
        "        return reward"
      ]
    },
    {
      "cell_type": "markdown",
      "metadata": {
        "id": "FgNNwwpaMYBi"
      },
      "source": [
        "最後に，上記で定義された３つのモデルを`RSSM`クラスとしてまとめます.\n",
        "\n",
        "\n"
      ]
    },
    {
      "cell_type": "code",
      "execution_count": 19,
      "metadata": {
        "id": "QzJB9ZiOxMnn"
      },
      "outputs": [],
      "source": [
        "class RSSM:\n",
        "    \"\"\"\n",
        "    TransitionModel, ObservationModel, RewardModelの3つをまとめたRSSMクラス．\n",
        "    \"\"\"\n",
        "\n",
        "    def __init__(\n",
        "        self,\n",
        "        state_dim: int,\n",
        "        action_dim: int,\n",
        "        rnn_hidden_dim: int,\n",
        "    ) -> None:\n",
        "        \"\"\"\n",
        "        コンストラクタ．\n",
        "\n",
        "        Parameters\n",
        "        ----------\n",
        "        state_dim : int\n",
        "            確率的状態sの次元数．\n",
        "        action_dim : int\n",
        "            行動空間の次元数．\n",
        "        rnn_hidden_dim : int\n",
        "            決定的状態hの次元数．\n",
        "        \"\"\"\n",
        "        self.transition = TransitionModel(state_dim, action_dim, rnn_hidden_dim).to(\n",
        "            device\n",
        "        )\n",
        "        self.observation = ObservationModel(\n",
        "            state_dim,\n",
        "            rnn_hidden_dim,\n",
        "        ).to(device)\n",
        "        self.reward = RewardModel(\n",
        "            state_dim,\n",
        "            rnn_hidden_dim,\n",
        "        ).to(device)"
      ]
    },
    {
      "cell_type": "markdown",
      "metadata": {
        "id": "WhlVvU3aZ5FC"
      },
      "source": [
        "## 5.補助機能の実装\n",
        "\n",
        "モデルの実装の前に，いくつか学習上必要になる補助機能を実装しておきましょう．具体的にはリプレイバッファ，観測の前処理を行う関数，λ-returnを計算する関数 の3つです．"
      ]
    },
    {
      "cell_type": "markdown",
      "metadata": {
        "id": "REs6Pq7paPJX"
      },
      "source": [
        "まずはリプレイバッファを実装します．ただし，RNNを使う関係上一連の系列として経験をサンプルしてくる必要があるため，DQNの時よりは少し実装に工夫が必要です．"
      ]
    },
    {
      "cell_type": "code",
      "execution_count": 20,
      "metadata": {
        "id": "-3bnTX7mNmOA"
      },
      "outputs": [],
      "source": [
        "# こちらはDQNのReplayBufferの定義\n",
        "class ReplayBuffer:\n",
        "    \"\"\"\n",
        "    これまでの経験をためておくリプレイバッファ．\n",
        "    \"\"\"\n",
        "\n",
        "    def __init__(self, memory_size: int) -> None:\n",
        "        \"\"\"\n",
        "        コンストラクタ．\n",
        "\n",
        "        Parameters\n",
        "        ----------\n",
        "        memory_size : int\n",
        "            リプレイバッファに貯められるデータの上限．\n",
        "        \"\"\"\n",
        "        self.memory_size = memory_size\n",
        "        # 収集する経験は上限を決め古いものから削除する．\n",
        "        self.memory = deque([], maxlen=memory_size)\n",
        "\n",
        "    def append(self, transition: dict) -> None:\n",
        "        \"\"\"\n",
        "        環境から得た経験（状態，行動，次の状態，報酬，終了フラグ）をキューに追加するメソッド．\n",
        "        dequeを用いているため上限(memory_size)に達すると古いものが削除される．\n",
        "\n",
        "        Parameters\n",
        "        ----------\n",
        "        trainsition : dict\n",
        "            状態(state)，次の状態(next_state)，報酬(reward)，行動(action)，終了フラグ(done)を格納した辞書．\n",
        "        \"\"\"\n",
        "        self.memory.append(transition)\n",
        "\n",
        "    def sample(self, batch_size: int) -> dict:  # 貯めた経験の中からランダムにミニバッチ単位で経験を取り出す．\n",
        "        \"\"\"\n",
        "        バッファに貯めた経験の中からランダムにミニバッチ単位で経験を取り出すメソッド．\n",
        "\n",
        "        Parameters\n",
        "        ----------\n",
        "        batch_size : int\n",
        "            バッチサイズ．\n",
        "\n",
        "        Returns\n",
        "        -------\n",
        "        sample : dict\n",
        "            状態(states)，次の状態(next_states)，報酬(rewards)，行動(actions)，終了フラグ(dones)をバッチサイズ分だけ格納した辞書．\n",
        "        \"\"\"\n",
        "        batch_indexes = np.random.randint(0, len(self.memory), size=batch_size)\n",
        "        states = np.array([self.memory[index][\"state\"] for index in batch_indexes])\n",
        "        next_states = np.array(\n",
        "            [self.memory[index][\"next_state\"] for index in batch_indexes]\n",
        "        )\n",
        "        rewards = np.array([self.memory[index][\"reward\"] for index in batch_indexes])\n",
        "        actions = np.array([self.memory[index][\"action\"] for index in batch_indexes])\n",
        "        dones = np.array([self.memory[index][\"done\"] for index in batch_indexes])\n",
        "        return {\n",
        "            \"states\": states,\n",
        "            \"next_states\": next_states,\n",
        "            \"rewards\": rewards,\n",
        "            \"actions\": actions,\n",
        "            \"dones\": dones,\n",
        "        }"
      ]
    },
    {
      "cell_type": "code",
      "execution_count": 21,
      "metadata": {
        "id": "tmptCR67aYZc"
      },
      "outputs": [],
      "source": [
        "# 　今回のReplayBuffer\n",
        "class ReplayBuffer(object):\n",
        "    \"\"\"\n",
        "    RNNを用いて訓練するのに適したリプレイバッファ．\n",
        "    \"\"\"\n",
        "\n",
        "    def __init__(\n",
        "        self, capacity: int, observation_shape: List[int], action_dim: int\n",
        "    ) -> None:\n",
        "        \"\"\"\n",
        "        コンストラクタ．\n",
        "\n",
        "        Parameters\n",
        "        ----------\n",
        "        capacity : int\n",
        "            リプレイバッファにためておくことができる経験の上限．\n",
        "        observation_shape : List[int]\n",
        "            環境から与えられる観測の形状．\n",
        "        action_dim : int\n",
        "            行動空間の次元数．\n",
        "        \"\"\"\n",
        "        self.capacity = capacity\n",
        "\n",
        "        self.observations = np.zeros((capacity, *observation_shape), dtype=np.uint8)\n",
        "        self.actions = np.zeros((capacity, action_dim), dtype=np.float32)\n",
        "        self.rewards = np.zeros((capacity, 1), dtype=np.float32)\n",
        "        self.done = np.zeros((capacity, 1), dtype=bool)\n",
        "        # self.done = np.zeros((capacity, 1), dtype=np.bool)\n",
        "\n",
        "        self.index = 0\n",
        "        self.is_filled = False\n",
        "\n",
        "    def push(\n",
        "        self, observation: np.ndarray, action: np.ndarray, reward: float, done: bool\n",
        "    ) -> None:\n",
        "        \"\"\"\n",
        "        リプレイバッファに経験を追加するメソッド．\n",
        "\n",
        "        Parameters\n",
        "        ----------\n",
        "        observation : np.ndarray (64, 64, 3)\n",
        "            環境から得られた観測．\n",
        "        action : np.ndarray (action_dim, )\n",
        "            エージェントがとった（もしくは経験を貯める際のランダムな）行動．\n",
        "        reward : float\n",
        "            観測に対して行動をとったときに得られる報酬．\n",
        "        done : bool\n",
        "            エピソードが終了するかどうかのフラグ．\n",
        "        \"\"\"\n",
        "        self.observations[self.index] = observation\n",
        "        self.actions[self.index] = action\n",
        "        self.rewards[self.index] = reward\n",
        "        self.done[self.index] = done\n",
        "\n",
        "        # indexは巡回し，最も古い経験を上書きする\n",
        "        if self.index == self.capacity - 1:\n",
        "            self.is_filled = True\n",
        "        self.index = (self.index + 1) % self.capacity\n",
        "\n",
        "    def sample(self, batch_size: int, chunk_length: int) -> Tuple[np.ndarray]:\n",
        "        \"\"\"\n",
        "        経験をリプレイバッファからサンプルします．（ほぼ）一様なサンプルです．\n",
        "        結果として返ってくるのは観測（画像），行動，報酬，終了シグナルについての(batch_size, chunk_length, 各要素の次元)の配列です．\n",
        "        各バッチは連続した経験になっています．\n",
        "        注意: chunk_lengthをあまり大きな値にすると問題が発生する場合があります．\n",
        "\n",
        "        Parameters\n",
        "        ----------\n",
        "        batch_size : int\n",
        "            バッチサイズ．\n",
        "        chunk_length : int\n",
        "            バッチあたりの系列長．\n",
        "\n",
        "\n",
        "        Returns\n",
        "        -------\n",
        "        sampled_observations : np.ndarray (batch size, chunk length, 3, 64, 64)\n",
        "            バッファからサンプリングされた観測．\n",
        "        sampled_actions : np.ndarray (batch size, chunk length, action dim)\n",
        "            バッファからサンプリングされた行動．\n",
        "        sampled_rewards : np.ndarray (batch size, chunk length, 1)\n",
        "            バッファからサンプリングされた報酬．\n",
        "        sampled_rewards : np.ndarray (batch size, chunk length, 1)\n",
        "            バッファからサンプリングされたエピソードの終了フラグ．\n",
        "        \"\"\"\n",
        "        episode_borders = np.where(self.done)[0]\n",
        "        sampled_indexes = []\n",
        "        for _ in range(batch_size):\n",
        "            cross_border = True\n",
        "            while cross_border:\n",
        "                initial_index = np.random.randint(len(self) - chunk_length + 1)\n",
        "                final_index = initial_index + chunk_length - 1\n",
        "                cross_border = np.logical_and(\n",
        "                    initial_index <= episode_borders, episode_borders < final_index\n",
        "                ).any()  # 論理積\n",
        "            sampled_indexes += list(range(initial_index, final_index + 1))\n",
        "\n",
        "        sampled_observations = self.observations[sampled_indexes].reshape(\n",
        "            batch_size, chunk_length, *self.observations.shape[1:]\n",
        "        )\n",
        "        sampled_actions = self.actions[sampled_indexes].reshape(\n",
        "            batch_size, chunk_length, self.actions.shape[1]\n",
        "        )\n",
        "        sampled_rewards = self.rewards[sampled_indexes].reshape(\n",
        "            batch_size, chunk_length, 1\n",
        "        )\n",
        "        sampled_done = self.done[sampled_indexes].reshape(batch_size, chunk_length, 1)\n",
        "        return sampled_observations, sampled_actions, sampled_rewards, sampled_done\n",
        "\n",
        "    def __len__(self) -> int:\n",
        "        \"\"\"\n",
        "        バッファに貯められている経験の数を返すメソッド．\n",
        "\n",
        "        Returns\n",
        "        -------\n",
        "        length : int\n",
        "            バッファに貯められている経験の数．\n",
        "        \"\"\"\n",
        "        return self.capacity if self.is_filled else self.index"
      ]
    },
    {
      "cell_type": "markdown",
      "metadata": {
        "id": "1RcSzdDcaUsa"
      },
      "source": [
        "次に観測の前処理を行う関数を実装します．ちなみに，これもラッパーとして最初から適用してしまわないのは，リプレイバッファにはより容量の小さなnp．uint8の形式で保存しておきたいためです．"
      ]
    },
    {
      "cell_type": "code",
      "execution_count": 22,
      "metadata": {
        "id": "MLIt0qiya1_2"
      },
      "outputs": [],
      "source": [
        "def preprocess_obs(obs: np.ndarray) -> np.ndarray:\n",
        "    \"\"\"\n",
        "    画像を正規化する．[0, 255] -> [-0.5, 0.5]．\n",
        "\n",
        "    Parameters\n",
        "    ----------\n",
        "    obs : np.ndarray (64, 64, 3) or (chank length, batch size, 3, 64, 64)\n",
        "        環境から得られた観測．画素値は[0, 255]．\n",
        "\n",
        "    Returns\n",
        "    -------\n",
        "    normalized_obs : np.ndarray (64, 64, 3) or (chank length, batch size, 64, 64, 3)\n",
        "        画素値を[-0.5, 0.5]で正規化した観測．\n",
        "    \"\"\"\n",
        "    obs = obs.astype(np.float32)\n",
        "    normalized_obs = obs / 255.0 - 0.5\n",
        "    return normalized_obs"
      ]
    },
    {
      "cell_type": "markdown",
      "metadata": {
        "id": "jD5tQXKea4lA"
      },
      "source": [
        "Dreamerでは価値関数の学習を行いますが，このために通常のTD誤差ではなく，**TD(λ)をベースにしたλ-return**としてターゲット価値を計算し，それと現在の予測価値の誤差を用います．そのためにλ-returnを計算する関数をここで実装しておきます．"
      ]
    },
    {
      "cell_type": "code",
      "execution_count": 23,
      "metadata": {
        "id": "fLZMKJj_bIHr"
      },
      "outputs": [],
      "source": [
        "def lambda_target(\n",
        "    rewards: torch.Tensor, values: torch.Tensor, gamma: float, lambda_: float\n",
        ") -> torch.Tensor:\n",
        "    \"\"\"\n",
        "    価値関数の学習のためのλ-returnを計算する関数．\n",
        "\n",
        "    Parameters\n",
        "    ----------\n",
        "    rewards : torch.Tensor (imagination_horizon+1,  batch size * (chank length - 1))\n",
        "        報酬モデルによる報酬の推定値．\n",
        "    values : torch.Tensor (imagination_horizon+1,  batch size * (chank length - 1))\n",
        "        価値関数を近似するValueモデルによる状態価値関数の推定値．\n",
        "    gamma : float\n",
        "        割引率．\n",
        "    lambda_ : float\n",
        "        λ-returnのパラメータλ．\n",
        "\n",
        "    Returns\n",
        "    -------\n",
        "    V_lambda : torch.Tensor (imagination_horizon+1, batch size * (chank length - 1))\n",
        "        各状態に対するλ-returnの値．\n",
        "    \"\"\"\n",
        "    V_lambda = torch.zeros_like(rewards, device=rewards.device)\n",
        "\n",
        "    H = rewards.shape[0] - 1\n",
        "    V_n = torch.zeros_like(rewards, device=rewards.device)\n",
        "    V_n[H] = values[H]\n",
        "    for n in range(1, H + 1):\n",
        "        # まずn-step returnを計算します\n",
        "        # 注意: 系列が途中で終わってしまったら，可能な中で最大のnを用いたn-stepを使います\n",
        "        V_n[:-n] = (gamma**n) * values[n:]\n",
        "        for k in range(1, n + 1):\n",
        "            if k == n:\n",
        "                V_n[:-n] += (gamma ** (n - 1)) * rewards[k:]\n",
        "            else:\n",
        "                V_n[:-n] += (gamma ** (k - 1)) * rewards[k : -n + k]\n",
        "\n",
        "        # lambda_でn-step returnを重みづけてλ-returnを計算します\n",
        "        if n == H:\n",
        "            V_lambda += (lambda_ ** (H - 1)) * V_n\n",
        "        else:\n",
        "            V_lambda += (1 - lambda_) * (lambda_ ** (n - 1)) * V_n\n",
        "\n",
        "    return V_lambda"
      ]
    },
    {
      "cell_type": "markdown",
      "metadata": {
        "id": "keAW0J-qS24Q"
      },
      "source": [
        "## 6.Dreamerの実装\n",
        "\n",
        "続いてDreamerの実装です．Dreamerの実装では以下の3クラスは上で定義したRSSMの各クラスと同義ですので，\n",
        "改めて定義はしておらず`RSSM`クラスを呼び出して使用することとします．\n",
        "* 状態遷移を担うクラス(TransitionModel)\n",
        "* 観測を復元するデコーダクラス(ObservationModel)\n",
        "* 報酬を予測するクラス(RewardModel)\n",
        "\n",
        "\n",
        "そのため，新たに定義するモデルは，以下の３つのみになります．\n",
        "* 観測の画像をベクトルに変換するエンコーダクラス(Encoder)\n",
        "* 価値関数を計算するクラス(ValueModel)\n",
        "* 実際に行動を決定するクラス(ActionModel)\n"
      ]
    },
    {
      "cell_type": "markdown",
      "metadata": {
        "id": "C_ARrbicUZzP"
      },
      "source": [
        "まずエンコーダを実装します．ここでは，CNN(Convolutional Neural Network)を用いて，観測の画像をベクトルに変換します．"
      ]
    },
    {
      "cell_type": "code",
      "execution_count": 24,
      "metadata": {
        "id": "kGY-YZzmSh-3"
      },
      "outputs": [],
      "source": [
        "class Encoder(nn.Module):\n",
        "    \"\"\"\n",
        "    (3, 64, 64)の画像を(1024,)のベクトルに変換するエンコーダクラス．\n",
        "    \"\"\"\n",
        "\n",
        "    def __init__(self) -> None:\n",
        "        \"\"\"\n",
        "        コンストラクタ．\n",
        "        層の定義のみを行う．\n",
        "        \"\"\"\n",
        "        super(Encoder, self).__init__()\n",
        "        self.cv1 = nn.Conv2d(3, 32, kernel_size=4, stride=2)\n",
        "        self.cv2 = nn.Conv2d(32, 64, kernel_size=4, stride=2)\n",
        "        self.cv3 = nn.Conv2d(64, 128, kernel_size=4, stride=2)\n",
        "        self.cv4 = nn.Conv2d(128, 256, kernel_size=4, stride=2)\n",
        "\n",
        "    def forward(self, obs: torch.Tensor) -> torch.Tensor:\n",
        "        \"\"\"\n",
        "        順伝播を行うメソッド．観測画像をベクトルに埋め込む．\n",
        "\n",
        "        Parameters\n",
        "        ----------\n",
        "        obs : torch.Tensor (64, 64, 3)\n",
        "            環境から得られた観測画像．\n",
        "\n",
        "        Returns\n",
        "        -------\n",
        "        embedded_obs : torch.Tensor (batch size, 1024)\n",
        "            観測を1024次元のベクトルに埋め込んだもの．\n",
        "        \"\"\"\n",
        "        hidden = F.relu(self.cv1(obs))\n",
        "        hidden = F.relu(self.cv2(hidden))\n",
        "        hidden = F.relu(self.cv3(hidden))\n",
        "        embedded_obs = F.relu(self.cv4(hidden)).reshape(hidden.size(0), -1)\n",
        "        return embedded_obs"
      ]
    },
    {
      "cell_type": "markdown",
      "metadata": {
        "id": "7coVKT3AWMx3"
      },
      "source": [
        "ここからがDreamerの中核となる部分で，RSSMの学習を通して獲得された低次元の状態表現の上でActor-Criticを行います.\n"
      ]
    },
    {
      "cell_type": "markdown",
      "metadata": {
        "id": "jHVY3TCdWx2L"
      },
      "source": [
        "以下で，価値関数を近似するValueモデル $v_{\\phi}(s_{\\tau})　\\approx E_{q(.|s_{\\tau})}(\\sum_{\\tau=t}^{t+H}(\\gamma^{\\tau-t}r_{\\tau}) )$ を実装します．Q学習などで用いられる状態行動価値関数Q(s, a)ではなく，状態価値関数V(s)であることに多少の注意が必要です．"
      ]
    },
    {
      "cell_type": "code",
      "execution_count": 25,
      "metadata": {
        "id": "4gegVfLVWLLR"
      },
      "outputs": [],
      "source": [
        "class ValueModel(nn.Module):\n",
        "    \"\"\"\n",
        "    低次元の状態表現(state_dim + rnn_hidden_dim)から状態価値を出力するクラス．\n",
        "    \"\"\"\n",
        "\n",
        "    def __init__(\n",
        "        self,\n",
        "        state_dim: int,\n",
        "        rnn_hidden_dim: int,\n",
        "        hidden_dim: int = 400,\n",
        "        act: \"function\" = F.elu,\n",
        "    ) -> None:\n",
        "        \"\"\"\n",
        "        コンストラクタ．\n",
        "\n",
        "        Parameters\n",
        "        ----------\n",
        "        state_dim : int\n",
        "            確率的状態sの次元数．\n",
        "        rnn_hidden_dim : int\n",
        "            決定的状態hの次元数．\n",
        "        hidden_dim : int\n",
        "            モデルの隠れ層の次元数． (default=400)\n",
        "        act : function\n",
        "            モデルの活性化関数． (default=torch.nn.functional.elu)\n",
        "        \"\"\"\n",
        "        super(ValueModel, self).__init__()\n",
        "        self.fc1 = nn.Linear(state_dim + rnn_hidden_dim, hidden_dim)\n",
        "        self.fc2 = nn.Linear(hidden_dim, hidden_dim)\n",
        "        self.fc3 = nn.Linear(hidden_dim, hidden_dim)\n",
        "        self.fc4 = nn.Linear(hidden_dim, 1)\n",
        "        self.act = act\n",
        "\n",
        "    def forward(self, state: torch.Tensor, rnn_hidden: torch.Tensor) -> torch.Tensor:\n",
        "        \"\"\"\n",
        "        順伝播を行うメソッド．低次元の状態表現から状態価値を推定する．\n",
        "\n",
        "        Parameters\n",
        "        ----------\n",
        "        state : torch.Tensor (batch size, state dim)\n",
        "            確率的状態s．\n",
        "        rnn_hidden : torch.Tensor (batch size, rnn_hidden_dim)\n",
        "            決定的状態h．\n",
        "\n",
        "        Returns\n",
        "        -------\n",
        "        state_value : torch.Tensor (batch size, 1)\n",
        "            入力された状態に対する状態価値の推定値．\n",
        "        \"\"\"\n",
        "        hidden = self.act(self.fc1(torch.cat([state, rnn_hidden], dim=1)))\n",
        "        hidden = self.act(self.fc2(hidden))\n",
        "        hidden = self.act(self.fc3(hidden))\n",
        "        state_value = self.fc4(hidden)\n",
        "        return state_value"
      ]
    },
    {
      "cell_type": "markdown",
      "metadata": {
        "id": "adOXp2TRXQ_Y"
      },
      "source": [
        "最後です．実際に行動を出力するActionモデル $a_{\\tau} \\sim q_{\\delta}(a_{\\tau}|s_{\\tau})$ を実装します．\n",
        "\n",
        "Actionモデルは価値の見積もりを最大化することを目的とします．\n",
        "\n"
      ]
    },
    {
      "cell_type": "code",
      "execution_count": 26,
      "metadata": {
        "id": "_2iSa_-kW_W7"
      },
      "outputs": [],
      "source": [
        "class ActionModel(nn.Module):\n",
        "    \"\"\"\n",
        "    低次元の状態表現(state_dim + rnn_hidden_dim)から行動を計算するクラス．\n",
        "    \"\"\"\n",
        "\n",
        "    def __init__(\n",
        "        self,\n",
        "        state_dim: int,\n",
        "        rnn_hidden_dim: int,\n",
        "        action_dim: int,\n",
        "        hidden_dim: int = 400,\n",
        "        act: \"function\" = F.elu,\n",
        "        min_stddev: float = 1e-4,\n",
        "        init_stddev: float = 5.0,\n",
        "    ) -> None:\n",
        "        \"\"\"\n",
        "        コンストラクタ．\n",
        "\n",
        "        Parameters\n",
        "        ----------\n",
        "        state_dim : int\n",
        "            確率的状態sの次元数．\n",
        "        rnn_hidden_dim : int\n",
        "            決定的状態hの次元数．\n",
        "        action_dim : int\n",
        "            行動空間の次元数．\n",
        "        hidden_dim : int\n",
        "            モデルの隠れ層の次元数． (default=400)\n",
        "        act : function\n",
        "            モデルの活性化関数． (default=torch.nn.functional.elu)\n",
        "        min_stddev : float\n",
        "            行動をサンプリングする分布の標準偏差の最小値． (default=1e-4)\n",
        "        init_stddev : float\n",
        "            行動をサンプリングする分布の標準偏差の初期値． (default=5.0)\n",
        "        \"\"\"\n",
        "        super(ActionModel, self).__init__()\n",
        "        self.fc1 = nn.Linear(state_dim + rnn_hidden_dim, hidden_dim)\n",
        "        self.fc2 = nn.Linear(hidden_dim, hidden_dim)\n",
        "        self.fc3 = nn.Linear(hidden_dim, hidden_dim)\n",
        "        self.fc4 = nn.Linear(hidden_dim, hidden_dim)\n",
        "        self.fc_mean = nn.Linear(hidden_dim, action_dim)\n",
        "        self.fc_stddev = nn.Linear(hidden_dim, action_dim)\n",
        "        self.act = act\n",
        "        self.min_stddev = min_stddev\n",
        "        self.init_stddev = np.log(np.exp(init_stddev) - 1)\n",
        "\n",
        "    def forward(\n",
        "        self, state: torch.Tensor, rnn_hidden: torch.Tensor, training: bool = True\n",
        "    ) -> None:\n",
        "        \"\"\"\n",
        "        順伝播を行うメソッド．入力された状態に対する行動を出力する．\n",
        "        training=Trueなら，NNのパラメータに関して微分可能な形の行動のサンプル（Reparametrizationによる）を返す．\n",
        "        training=Falseなら，行動の確率分布の平均値を返す．\n",
        "\n",
        "        Parameters\n",
        "        ----------\n",
        "        staet : torch.Tensor (batch size, state dim)\n",
        "            確率的状態s．\n",
        "        rnn_hidden : torch.Tensor (batch size, rnn_hidden_dim)\n",
        "            決定的状態h．\n",
        "        training : bool\n",
        "            訓練か推論かを示すフラグ． (default=True)\n",
        "\n",
        "        Returns\n",
        "        -------\n",
        "        action : torch.Tensor (batch size, action dim)\n",
        "            入力された状態に対する行動．\n",
        "            training=Trueでは微分可能な形の行動をサンプリングした値，\n",
        "            training=Falseでは行動の確率分布の平均値を返す．\n",
        "        \"\"\"\n",
        "        hidden = self.act(self.fc1(torch.cat([state, rnn_hidden], dim=1)))\n",
        "        hidden = self.act(self.fc2(hidden))\n",
        "        hidden = self.act(self.fc3(hidden))\n",
        "        hidden = self.act(self.fc4(hidden))\n",
        "\n",
        "        # Dreamerの実装に合わせて少し平均と分散に対する簡単な変換が入っています\n",
        "        mean = self.fc_mean(hidden)\n",
        "        mean = 5.0 * torch.tanh(mean / 5.0)\n",
        "        stddev = self.fc_stddev(hidden)\n",
        "        stddev = F.softplus(stddev + self.init_stddev) + self.min_stddev\n",
        "\n",
        "        if training:\n",
        "            action = torch.tanh(Normal(mean, stddev).rsample())  # 微分可能にするためrsample()\n",
        "        else:\n",
        "            action = torch.tanh(mean)\n",
        "        return action"
      ]
    },
    {
      "cell_type": "markdown",
      "metadata": {
        "id": "B5L46nAhYAAJ"
      },
      "source": [
        "実装の詳細まで掴みきれなくとも，個々のクラスが担っている役割が大雑把にでもわかっていただければ幸いです."
      ]
    },
    {
      "cell_type": "markdown",
      "metadata": {
        "id": "GdKZ1S2_boOd"
      },
      "source": [
        "## 7.エージェントの実装\n",
        "\n",
        "Dreamerでは行動を計算するために低次元の状態表現が必要で，この状態表現はRSSMを用いて計算されるため，テスト時もこの状態表現のためにRSSMによる推論を行い続ける必要があります．\n",
        "\n",
        "そのため，先ほど実装したActionModelをそのまま使っても簡単には行動を決定できません．\n",
        "\n",
        "ここを扱いやすくするために，RSSMを使って低次元の状態表現を計算しつつ，行動を決定するAgentクラスを実装します．"
      ]
    },
    {
      "cell_type": "code",
      "execution_count": 27,
      "metadata": {
        "id": "Dof4rokgYj-6"
      },
      "outputs": [],
      "source": [
        "class Agent:\n",
        "    \"\"\"\n",
        "    ActionModelに基づき行動を決定する．そのためにRSSMを用いて状態表現をリアルタイムで推論して維持するクラス．\n",
        "    \"\"\"\n",
        "\n",
        "    def __init__(self, encoder: Encoder, rssm: RSSM, action_model: ActionModel) -> None:\n",
        "        \"\"\"\n",
        "        コンストラクタ．\n",
        "\n",
        "        Parameters\n",
        "        ----------\n",
        "        encoder : Encoder\n",
        "            上で定義したEncoderクラスのインスタンス．\n",
        "            観測画像を1024次元のベクトルに埋め込む ．\n",
        "        rssm : RSSM\n",
        "            上で定義したRSSMクラスのインスタンス．\n",
        "            遷移モデル，1024次元のベクトルを観測画像にするデコーダ，報酬を予測するモデルを持つ．\n",
        "        action_model : ActionModel\n",
        "            上で定義したActionModelのインスタンス．\n",
        "            低次元の状態表現から行動を予測する．\n",
        "        \"\"\"\n",
        "        self.encoder = encoder\n",
        "        self.rssm = rssm\n",
        "        self.action_model = action_model\n",
        "\n",
        "        self.device = next(self.action_model.parameters()).device\n",
        "        self.rnn_hidden = torch.zeros(1, rssm.rnn_hidden_dim, device=self.device)\n",
        "\n",
        "    def __call__(self, obs: np.ndarray, training=True) -> np.ndarray:\n",
        "        \"\"\"\n",
        "        特殊メソッド．\n",
        "        インスタンスに直接引数を渡すことで実行される．\n",
        "        （例）agent = Agent(*args)\n",
        "             action = agent(obs)  # このときに__call__メソッドが呼び出される．\n",
        "\n",
        "        Parameters\n",
        "        ----------\n",
        "        obs : np.ndarray (batch size, 3, 64, 64)\n",
        "            環境から得られた観測画像．\n",
        "        training : bool\n",
        "            訓練か推論かを示すフラグ． (default=True)\n",
        "\n",
        "        Returns\n",
        "        -------\n",
        "        action : np.ndarray (batch size, action dim)\n",
        "            入力された観測に対する行動の予測．\n",
        "        \"\"\"\n",
        "        # preprocessを適用，PyTorchのためにChannel-Firstに変換\n",
        "        obs = preprocess_obs(obs)\n",
        "        obs = torch.as_tensor(obs, device=self.device)\n",
        "        obs = obs.transpose(1, 2).transpose(0, 1).unsqueeze(0)\n",
        "\n",
        "        with torch.no_grad():\n",
        "            # 観測を低次元の表現に変換し，posteriorからのサンプルをActionModelに入力して行動を決定する\n",
        "            embedded_obs = self.encoder(obs)\n",
        "            state_posterior = self.rssm.posterior(self.rnn_hidden, embedded_obs)\n",
        "            state = state_posterior.sample()\n",
        "            action = self.action_model(state, self.rnn_hidden, training=training)\n",
        "\n",
        "            # 次のステップのためにRNNの隠れ状態を更新しておく\n",
        "            _, self.rnn_hidden = self.rssm.prior(\n",
        "                self.rssm.recurrent(state, action, self.rnn_hidden)\n",
        "            )\n",
        "\n",
        "        return action.squeeze().cpu().numpy()\n",
        "\n",
        "    def reset(self) -> None:\n",
        "        \"\"\"\n",
        "        RNNの隠れ状態（=決定的状態）をリセットする．\n",
        "        \"\"\"\n",
        "        self.rnn_hidden = torch.zeros(1, self.rssm.rnn_hidden_dim, device=self.device)"
      ]
    },
    {
      "cell_type": "markdown",
      "metadata": {
        "id": "QUPWAkpyc9Z-"
      },
      "source": [
        "## 8.ハイパーパラメータの設定と学習の準備\n",
        "\n",
        "ここまででDreamerの基本的な構成要素は実装が終わりました．あとはハイパーパラメータを設定し，モデルやリプレイバッファを宣言して学習の準備を整えます．"
      ]
    },
    {
      "cell_type": "code",
      "execution_count": 28,
      "metadata": {
        "id": "Z8sW8K5Kdjrg"
      },
      "outputs": [],
      "source": [
        "# リプレイバッファの宣言\n",
        "buffer_capacity = 200000  # Colabのメモリの都合上，元の実装より小さめにとっています\n",
        "replay_buffer = ReplayBuffer(\n",
        "    capacity=buffer_capacity,\n",
        "    observation_shape=env.observation_space.shape,\n",
        "    action_dim=env.action_space.shape[0],\n",
        ")\n",
        "\n",
        "# モデルの宣言\n",
        "state_dim = 30  # 確率的状態の次元\n",
        "rnn_hidden_dim = 200  # 決定的状態（RNNの隠れ状態）の次元\n",
        "# 確率的状態の次元と決定的状態（RNNの隠れ状態）の次元は一致しなくて良い\n",
        "encoder = Encoder().to(device)\n",
        "rssm = RSSM(\n",
        "    state_dim,\n",
        "    env.action_space.shape[0],\n",
        "    rnn_hidden_dim,\n",
        ")\n",
        "value_model = ValueModel(state_dim, rnn_hidden_dim).to(device)\n",
        "action_model = ActionModel(state_dim, rnn_hidden_dim, env.action_space.shape[0]).to(\n",
        "    device\n",
        ")\n",
        "\n",
        "# オプティマイザの宣言\n",
        "model_lr = 6e-4  # encoder, rssm, obs_model, reward_modelの学習率\n",
        "value_lr = 8e-5\n",
        "action_lr = 8e-5\n",
        "eps = 1e-4\n",
        "model_params = (\n",
        "    list(encoder.parameters())\n",
        "    + list(rssm.transition.parameters())\n",
        "    + list(rssm.observation.parameters())\n",
        "    + list(rssm.reward.parameters())\n",
        ")\n",
        "model_optimizer = torch.optim.Adam(model_params, lr=model_lr, eps=eps)\n",
        "value_optimizer = torch.optim.Adam(value_model.parameters(), lr=value_lr, eps=eps)\n",
        "action_optimizer = torch.optim.Adam(action_model.parameters(), lr=action_lr, eps=eps)\n",
        "\n",
        "# その他ハイパーパラメータ\n",
        "seed_episodes = 5  # 最初にランダム行動で探索するエピソード数\n",
        "all_episodes = 15  # 学習全体のエピソード数（300ほどで，ある程度収束します）\n",
        "test_interval = 20  # 何エピソードごとに探索ノイズなしのテストを行うか\n",
        "model_save_interval = 20  # NNの重みを何エピソードごとに保存するか\n",
        "collect_interval = 100  # 何回のNNの更新ごとに経験を集めるか（＝1エピソード経験を集めるごとに何回更新するか）\n",
        "\n",
        "action_noise_var = 0.3  # 探索ノイズの強さ\n",
        "\n",
        "batch_size = 50\n",
        "chunk_length = 50  # 1回の更新で用いる系列の長さ\n",
        "imagination_horizon = 15  # Actor-Criticの更新のために，Dreamerで何ステップ先までの想像上の軌道を生成するか\n",
        "\n",
        "\n",
        "gamma = 0.9  # 割引率\n",
        "lambda_ = 0.95  # λ-returnのパラメータ\n",
        "clip_grad_norm = 100  # gradient clippingの値\n",
        "free_nats = 3  # KL誤差（RSSMのTransitionModelにおけるpriorとposteriorの間の誤差）がこの値以下の場合，無視する"
      ]
    },
    {
      "cell_type": "markdown",
      "metadata": {
        "id": "yUoI0l9Ee0Tp"
      },
      "source": [
        "## 9.学習\n",
        "まず，最初の数エピソードはランダムに行動して経験をリプレイバッファに貯めます．"
      ]
    },
    {
      "cell_type": "code",
      "execution_count": 29,
      "metadata": {
        "id": "txKI9CCne5e3"
      },
      "outputs": [],
      "source": [
        "env = make_env()\n",
        "for episode in range(seed_episodes):\n",
        "    obs = env.reset()\n",
        "    done = False\n",
        "    while not done:\n",
        "        action = env.action_space.sample()\n",
        "        next_obs, reward, done, _ = env.step(action)\n",
        "        replay_buffer.push(obs, action, reward, done)\n",
        "        obs = next_obs"
      ]
    },
    {
      "cell_type": "markdown",
      "metadata": {
        "id": "gsE7Hu6yfW2B"
      },
      "source": [
        "学習結果を確認するために，TensorBoardを立ち上げておきます．"
      ]
    },
    {
      "cell_type": "code",
      "execution_count": 30,
      "metadata": {
        "id": "2fmFqkidfEXP"
      },
      "outputs": [],
      "source": [
        "log_dir = \"logs\"\n",
        "writer = SummaryWriter(log_dir)\n",
        "# %tensorboard --logdir='./logs'"
      ]
    },
    {
      "cell_type": "markdown",
      "metadata": {
        "id": "raG5bSzCfrhV"
      },
      "source": [
        "以下がメインの学習ループです．それぞれのコメントを見て，実装の内容を追ってください.\n",
        "\n",
        "学習にはColab Proで3時間半ぐらいの時間がかかります."
      ]
    },
    {
      "cell_type": "code",
      "execution_count": 37,
      "metadata": {
        "id": "6_LNryZQfnKT",
        "colab": {
          "base_uri": "https://localhost:8080/",
          "height": 1000
        },
        "outputId": "fe2d83b4-ff1f-4ebe-f3d7-d6669032f7d6"
      },
      "outputs": [
        {
          "output_type": "stream",
          "name": "stdout",
          "text": [
            "episode [   6/ 100] is collected. Total reward is 1102.253472\n",
            "elasped time for interaction: 4.61s\n",
            "update_step:   1 model loss: 89.64141, kl_loss: 44.92152, obs_loss: 40.60925, reward_loss: 4.11063, value_loss: 0.58146 action_loss: -0.17088\n",
            "update_step:   2 model loss: 64.29022, kl_loss: 19.41825, obs_loss: 40.95669, reward_loss: 3.91529, value_loss: 2.21193 action_loss: -1.00050\n",
            "update_step:   3 model loss: 62.26352, kl_loss: 15.15821, obs_loss: 43.48325, reward_loss: 3.62207, value_loss: 5.94787 action_loss: -2.15756\n",
            "update_step:   4 model loss: 60.04533, kl_loss: 13.37572, obs_loss: 43.34203, reward_loss: 3.32759, value_loss: 14.75229 action_loss: -4.15071\n",
            "update_step:   5 model loss: 52.13242, kl_loss: 11.20197, obs_loss: 38.48616, reward_loss: 2.44429, value_loss: 27.76922 action_loss: -5.60528\n",
            "update_step:   6 model loss: 46.55433, kl_loss: 10.11299, obs_loss: 34.02815, reward_loss: 2.41319, value_loss: 62.40369 action_loss: -9.55917\n",
            "update_step:   7 model loss: 44.74579, kl_loss: 10.79858, obs_loss: 32.08344, reward_loss: 1.86378, value_loss: 83.49586 action_loss: -10.92513\n",
            "update_step:   8 model loss: 44.25657, kl_loss: 12.80757, obs_loss: 29.78465, reward_loss: 1.66435, value_loss: 121.58530 action_loss: -13.59206\n",
            "update_step:   9 model loss: 42.88960, kl_loss: 12.73738, obs_loss: 28.33865, reward_loss: 1.81357, value_loss: 113.77284 action_loss: -13.08571\n",
            "update_step:  10 model loss: 40.97794, kl_loss: 10.25373, obs_loss: 28.89419, reward_loss: 1.83002, value_loss: 99.30906 action_loss: -12.27425\n",
            "update_step:  11 model loss: 38.38532, kl_loss: 7.75651, obs_loss: 28.88928, reward_loss: 1.73953, value_loss: 67.59492 action_loss: -9.87151\n",
            "update_step:  12 model loss: 38.39772, kl_loss: 7.09650, obs_loss: 29.58870, reward_loss: 1.71252, value_loss: 51.21080 action_loss: -8.30780\n",
            "update_step:  13 model loss: 37.63720, kl_loss: 6.63579, obs_loss: 29.38301, reward_loss: 1.61840, value_loss: 36.65556 action_loss: -6.66201\n",
            "update_step:  14 model loss: 37.69115, kl_loss: 6.72662, obs_loss: 29.40779, reward_loss: 1.55674, value_loss: 35.34005 action_loss: -6.45522\n",
            "update_step:  15 model loss: 36.49044, kl_loss: 6.40090, obs_loss: 28.62705, reward_loss: 1.46249, value_loss: 34.84471 action_loss: -6.25635\n",
            "update_step:  16 model loss: 36.01958, kl_loss: 6.36145, obs_loss: 28.23609, reward_loss: 1.42205, value_loss: 38.84455 action_loss: -6.71446\n",
            "update_step:  17 model loss: 35.08394, kl_loss: 6.50987, obs_loss: 27.18993, reward_loss: 1.38415, value_loss: 45.63057 action_loss: -7.67695\n",
            "update_step:  18 model loss: 33.98256, kl_loss: 6.31160, obs_loss: 26.41873, reward_loss: 1.25224, value_loss: 61.53694 action_loss: -9.41550\n",
            "update_step:  19 model loss: 34.11743, kl_loss: 6.75135, obs_loss: 26.06688, reward_loss: 1.29920, value_loss: 64.15436 action_loss: -9.62828\n",
            "update_step:  20 model loss: 33.78939, kl_loss: 6.53957, obs_loss: 26.02090, reward_loss: 1.22892, value_loss: 74.56084 action_loss: -10.66620\n",
            "update_step:  21 model loss: 32.89462, kl_loss: 6.25814, obs_loss: 25.38102, reward_loss: 1.25546, value_loss: 84.93147 action_loss: -11.83136\n",
            "update_step:  22 model loss: 32.89492, kl_loss: 5.92418, obs_loss: 25.65246, reward_loss: 1.31828, value_loss: 79.76124 action_loss: -11.43977\n",
            "update_step:  23 model loss: 32.30120, kl_loss: 5.73192, obs_loss: 25.27485, reward_loss: 1.29443, value_loss: 83.65139 action_loss: -11.96199\n",
            "update_step:  24 model loss: 32.94453, kl_loss: 5.68022, obs_loss: 25.87347, reward_loss: 1.39084, value_loss: 67.94629 action_loss: -10.39036\n",
            "update_step:  25 model loss: 31.57300, kl_loss: 5.32968, obs_loss: 25.07602, reward_loss: 1.16729, value_loss: 80.44428 action_loss: -11.68318\n",
            "update_step:  26 model loss: 31.65110, kl_loss: 5.42755, obs_loss: 24.94073, reward_loss: 1.28282, value_loss: 69.80546 action_loss: -10.85618\n",
            "update_step:  27 model loss: 31.75476, kl_loss: 5.49064, obs_loss: 24.97829, reward_loss: 1.28583, value_loss: 82.70569 action_loss: -11.87998\n",
            "update_step:  28 model loss: 31.67633, kl_loss: 5.51482, obs_loss: 24.89525, reward_loss: 1.26626, value_loss: 77.52605 action_loss: -11.74785\n",
            "update_step:  29 model loss: 30.90260, kl_loss: 5.69028, obs_loss: 23.96824, reward_loss: 1.24409, value_loss: 69.67908 action_loss: -11.21726\n",
            "update_step:  30 model loss: 30.65223, kl_loss: 5.75825, obs_loss: 23.77150, reward_loss: 1.12248, value_loss: 65.11114 action_loss: -11.11506\n",
            "update_step:  31 model loss: 31.66460, kl_loss: 5.89591, obs_loss: 24.53910, reward_loss: 1.22959, value_loss: 52.60862 action_loss: -10.05509\n",
            "update_step:  32 model loss: 31.24243, kl_loss: 5.75364, obs_loss: 24.21617, reward_loss: 1.27262, value_loss: 54.27315 action_loss: -10.40450\n",
            "update_step:  33 model loss: 30.77385, kl_loss: 5.73111, obs_loss: 23.92104, reward_loss: 1.12169, value_loss: 63.59233 action_loss: -11.46806\n",
            "update_step:  34 model loss: 30.93709, kl_loss: 5.60300, obs_loss: 24.11740, reward_loss: 1.21669, value_loss: 68.29940 action_loss: -12.16137\n",
            "update_step:  35 model loss: 30.33265, kl_loss: 5.56662, obs_loss: 23.58451, reward_loss: 1.18153, value_loss: 72.55772 action_loss: -12.75459\n",
            "update_step:  36 model loss: 31.08992, kl_loss: 5.39633, obs_loss: 24.45625, reward_loss: 1.23733, value_loss: 64.06907 action_loss: -12.22559\n",
            "update_step:  37 model loss: 30.31608, kl_loss: 5.38553, obs_loss: 23.78065, reward_loss: 1.14990, value_loss: 62.37965 action_loss: -12.18798\n",
            "update_step:  38 model loss: 29.89913, kl_loss: 5.32522, obs_loss: 23.32521, reward_loss: 1.24870, value_loss: 54.70736 action_loss: -11.60256\n",
            "update_step:  39 model loss: 30.14407, kl_loss: 5.36118, obs_loss: 23.59713, reward_loss: 1.18576, value_loss: 58.31052 action_loss: -12.26939\n",
            "update_step:  40 model loss: 31.13359, kl_loss: 5.35042, obs_loss: 24.41296, reward_loss: 1.37021, value_loss: 57.37161 action_loss: -12.50920\n",
            "update_step:  41 model loss: 30.21468, kl_loss: 5.35656, obs_loss: 23.68877, reward_loss: 1.16935, value_loss: 63.18470 action_loss: -13.44637\n",
            "update_step:  42 model loss: 29.61679, kl_loss: 5.43689, obs_loss: 23.00512, reward_loss: 1.17478, value_loss: 61.88635 action_loss: -13.51801\n",
            "update_step:  43 model loss: 29.57881, kl_loss: 5.48256, obs_loss: 22.96561, reward_loss: 1.13064, value_loss: 63.37989 action_loss: -13.90886\n",
            "update_step:  44 model loss: 30.46894, kl_loss: 5.66930, obs_loss: 23.66880, reward_loss: 1.13084, value_loss: 70.54996 action_loss: -14.94324\n",
            "update_step:  45 model loss: 29.55795, kl_loss: 5.47252, obs_loss: 22.92081, reward_loss: 1.16462, value_loss: 61.34375 action_loss: -14.32867\n",
            "update_step:  46 model loss: 29.90547, kl_loss: 5.37712, obs_loss: 23.37841, reward_loss: 1.14994, value_loss: 61.54092 action_loss: -14.72314\n",
            "update_step:  47 model loss: 28.26743, kl_loss: 5.13870, obs_loss: 21.99520, reward_loss: 1.13353, value_loss: 51.73978 action_loss: -14.15953\n",
            "update_step:  48 model loss: 28.02623, kl_loss: 5.10975, obs_loss: 21.89944, reward_loss: 1.01704, value_loss: 49.97275 action_loss: -14.60404\n",
            "update_step:  49 model loss: 29.43789, kl_loss: 5.21479, obs_loss: 23.03877, reward_loss: 1.18433, value_loss: 52.25089 action_loss: -15.27139\n",
            "update_step:  50 model loss: 29.74501, kl_loss: 5.42550, obs_loss: 23.16317, reward_loss: 1.15634, value_loss: 51.74799 action_loss: -15.59906\n",
            "update_step:  51 model loss: 29.48905, kl_loss: 5.40883, obs_loss: 22.93346, reward_loss: 1.14676, value_loss: 48.26589 action_loss: -15.22126\n",
            "update_step:  52 model loss: 28.87824, kl_loss: 5.16379, obs_loss: 22.66422, reward_loss: 1.05023, value_loss: 55.59332 action_loss: -16.50938\n",
            "update_step:  53 model loss: 29.72295, kl_loss: 5.38711, obs_loss: 23.12978, reward_loss: 1.20607, value_loss: 46.72204 action_loss: -15.79382\n",
            "update_step:  54 model loss: 29.13382, kl_loss: 5.41613, obs_loss: 22.62029, reward_loss: 1.09740, value_loss: 44.15990 action_loss: -16.38882\n",
            "update_step:  55 model loss: 29.18660, kl_loss: 5.36986, obs_loss: 22.68342, reward_loss: 1.13331, value_loss: 39.69389 action_loss: -16.34569\n",
            "update_step:  56 model loss: 28.03170, kl_loss: 5.17819, obs_loss: 21.81715, reward_loss: 1.03636, value_loss: 34.96826 action_loss: -16.11546\n",
            "update_step:  57 model loss: 28.66528, kl_loss: 5.20700, obs_loss: 22.36097, reward_loss: 1.09731, value_loss: 33.98029 action_loss: -16.29235\n",
            "update_step:  58 model loss: 29.08129, kl_loss: 5.25890, obs_loss: 22.73885, reward_loss: 1.08354, value_loss: 34.82473 action_loss: -16.79190\n",
            "update_step:  59 model loss: 27.85635, kl_loss: 5.00683, obs_loss: 21.75238, reward_loss: 1.09714, value_loss: 32.95287 action_loss: -16.65886\n",
            "update_step:  60 model loss: 27.49332, kl_loss: 5.05146, obs_loss: 21.41165, reward_loss: 1.03022, value_loss: 39.35366 action_loss: -18.29981\n",
            "update_step:  61 model loss: 28.82884, kl_loss: 5.20708, obs_loss: 22.50221, reward_loss: 1.11954, value_loss: 39.55685 action_loss: -18.87296\n",
            "update_step:  62 model loss: 28.45255, kl_loss: 5.30376, obs_loss: 22.09669, reward_loss: 1.05210, value_loss: 29.89076 action_loss: -17.70247\n",
            "update_step:  63 model loss: 27.63550, kl_loss: 5.09842, obs_loss: 21.53010, reward_loss: 1.00698, value_loss: 29.23129 action_loss: -18.36018\n",
            "update_step:  64 model loss: 28.69503, kl_loss: 5.19906, obs_loss: 22.33718, reward_loss: 1.15879, value_loss: 25.11959 action_loss: -18.13620\n",
            "update_step:  65 model loss: 27.98009, kl_loss: 5.09286, obs_loss: 21.83285, reward_loss: 1.05439, value_loss: 26.75917 action_loss: -19.21435\n",
            "update_step:  66 model loss: 27.29257, kl_loss: 4.99420, obs_loss: 21.34428, reward_loss: 0.95410, value_loss: 28.85752 action_loss: -20.02478\n",
            "update_step:  67 model loss: 28.38430, kl_loss: 5.10891, obs_loss: 22.11270, reward_loss: 1.16269, value_loss: 29.24092 action_loss: -20.33073\n",
            "update_step:  68 model loss: 28.26651, kl_loss: 5.11105, obs_loss: 22.11379, reward_loss: 1.04167, value_loss: 27.92206 action_loss: -21.19436\n",
            "update_step:  69 model loss: 27.97722, kl_loss: 5.14666, obs_loss: 21.89224, reward_loss: 0.93832, value_loss: 27.99340 action_loss: -21.78705\n",
            "update_step:  70 model loss: 27.08284, kl_loss: 5.09668, obs_loss: 21.01521, reward_loss: 0.97095, value_loss: 22.90788 action_loss: -20.82869\n",
            "update_step:  71 model loss: 27.35199, kl_loss: 5.06260, obs_loss: 21.29323, reward_loss: 0.99616, value_loss: 21.92691 action_loss: -21.43580\n",
            "update_step:  72 model loss: 27.91389, kl_loss: 4.95064, obs_loss: 21.96646, reward_loss: 0.99678, value_loss: 23.48910 action_loss: -22.47432\n",
            "update_step:  73 model loss: 27.31202, kl_loss: 4.97321, obs_loss: 21.35313, reward_loss: 0.98568, value_loss: 22.64127 action_loss: -22.96745\n",
            "update_step:  74 model loss: 27.79828, kl_loss: 4.98350, obs_loss: 21.78191, reward_loss: 1.03286, value_loss: 24.13375 action_loss: -24.08514\n",
            "update_step:  75 model loss: 27.65715, kl_loss: 5.03816, obs_loss: 21.67332, reward_loss: 0.94567, value_loss: 20.46334 action_loss: -23.83079\n",
            "update_step:  76 model loss: 27.51138, kl_loss: 4.98176, obs_loss: 21.57009, reward_loss: 0.95954, value_loss: 14.88608 action_loss: -22.84526\n",
            "update_step:  77 model loss: 27.81423, kl_loss: 5.10433, obs_loss: 21.77862, reward_loss: 0.93128, value_loss: 12.87977 action_loss: -23.09255\n",
            "update_step:  78 model loss: 27.50890, kl_loss: 5.08742, obs_loss: 21.51070, reward_loss: 0.91078, value_loss: 11.69257 action_loss: -23.46518\n",
            "update_step:  79 model loss: 28.08743, kl_loss: 5.17916, obs_loss: 21.89381, reward_loss: 1.01446, value_loss: 9.90264 action_loss: -22.79800\n",
            "update_step:  80 model loss: 28.35871, kl_loss: 5.04706, obs_loss: 22.21768, reward_loss: 1.09397, value_loss: 11.53653 action_loss: -24.29923\n",
            "update_step:  81 model loss: 27.67742, kl_loss: 5.08668, obs_loss: 21.69441, reward_loss: 0.89633, value_loss: 13.19844 action_loss: -25.73635\n",
            "update_step:  82 model loss: 27.93208, kl_loss: 5.03945, obs_loss: 21.77298, reward_loss: 1.11964, value_loss: 12.09471 action_loss: -25.50947\n",
            "update_step:  83 model loss: 28.06484, kl_loss: 5.05559, obs_loss: 21.99352, reward_loss: 1.01573, value_loss: 10.63313 action_loss: -26.09529\n",
            "update_step:  84 model loss: 27.60921, kl_loss: 5.02211, obs_loss: 21.58896, reward_loss: 0.99814, value_loss: 9.77913 action_loss: -26.09264\n",
            "update_step:  85 model loss: 27.43012, kl_loss: 4.95164, obs_loss: 21.45419, reward_loss: 1.02429, value_loss: 9.67994 action_loss: -25.81804\n"
          ]
        },
        {
          "output_type": "error",
          "ename": "KeyboardInterrupt",
          "evalue": "ignored",
          "traceback": [
            "\u001b[0;31m---------------------------------------------------------------------------\u001b[0m",
            "\u001b[0;31mKeyboardInterrupt\u001b[0m                         Traceback (most recent call last)",
            "\u001b[0;32m<ipython-input-37-62bcaac8a013>\u001b[0m in \u001b[0;36m<cell line: 1>\u001b[0;34m()\u001b[0m\n\u001b[1;32m     89\u001b[0m         \u001b[0mmodel_loss\u001b[0m \u001b[0;34m=\u001b[0m \u001b[0mkl_loss\u001b[0m \u001b[0;34m+\u001b[0m \u001b[0mobs_loss\u001b[0m \u001b[0;34m+\u001b[0m \u001b[0mreward_loss\u001b[0m\u001b[0;34m\u001b[0m\u001b[0;34m\u001b[0m\u001b[0m\n\u001b[1;32m     90\u001b[0m         \u001b[0mmodel_optimizer\u001b[0m\u001b[0;34m.\u001b[0m\u001b[0mzero_grad\u001b[0m\u001b[0;34m(\u001b[0m\u001b[0;34m)\u001b[0m\u001b[0;34m\u001b[0m\u001b[0;34m\u001b[0m\u001b[0m\n\u001b[0;32m---> 91\u001b[0;31m         \u001b[0mmodel_loss\u001b[0m\u001b[0;34m.\u001b[0m\u001b[0mbackward\u001b[0m\u001b[0;34m(\u001b[0m\u001b[0;34m)\u001b[0m\u001b[0;34m\u001b[0m\u001b[0;34m\u001b[0m\u001b[0m\n\u001b[0m\u001b[1;32m     92\u001b[0m         \u001b[0mclip_grad_norm_\u001b[0m\u001b[0;34m(\u001b[0m\u001b[0mmodel_params\u001b[0m\u001b[0;34m,\u001b[0m \u001b[0mclip_grad_norm\u001b[0m\u001b[0;34m)\u001b[0m\u001b[0;34m\u001b[0m\u001b[0;34m\u001b[0m\u001b[0m\n\u001b[1;32m     93\u001b[0m         \u001b[0mmodel_optimizer\u001b[0m\u001b[0;34m.\u001b[0m\u001b[0mstep\u001b[0m\u001b[0;34m(\u001b[0m\u001b[0;34m)\u001b[0m\u001b[0;34m\u001b[0m\u001b[0;34m\u001b[0m\u001b[0m\n",
            "\u001b[0;32m/usr/local/lib/python3.10/dist-packages/torch/_tensor.py\u001b[0m in \u001b[0;36mbackward\u001b[0;34m(self, gradient, retain_graph, create_graph, inputs)\u001b[0m\n\u001b[1;32m    490\u001b[0m                 \u001b[0minputs\u001b[0m\u001b[0;34m=\u001b[0m\u001b[0minputs\u001b[0m\u001b[0;34m,\u001b[0m\u001b[0;34m\u001b[0m\u001b[0;34m\u001b[0m\u001b[0m\n\u001b[1;32m    491\u001b[0m             )\n\u001b[0;32m--> 492\u001b[0;31m         torch.autograd.backward(\n\u001b[0m\u001b[1;32m    493\u001b[0m             \u001b[0mself\u001b[0m\u001b[0;34m,\u001b[0m \u001b[0mgradient\u001b[0m\u001b[0;34m,\u001b[0m \u001b[0mretain_graph\u001b[0m\u001b[0;34m,\u001b[0m \u001b[0mcreate_graph\u001b[0m\u001b[0;34m,\u001b[0m \u001b[0minputs\u001b[0m\u001b[0;34m=\u001b[0m\u001b[0minputs\u001b[0m\u001b[0;34m\u001b[0m\u001b[0;34m\u001b[0m\u001b[0m\n\u001b[1;32m    494\u001b[0m         )\n",
            "\u001b[0;32m/usr/local/lib/python3.10/dist-packages/torch/autograd/__init__.py\u001b[0m in \u001b[0;36mbackward\u001b[0;34m(tensors, grad_tensors, retain_graph, create_graph, grad_variables, inputs)\u001b[0m\n\u001b[1;32m    249\u001b[0m     \u001b[0;31m# some Python versions print out the first line of a multi-line function\u001b[0m\u001b[0;34m\u001b[0m\u001b[0;34m\u001b[0m\u001b[0m\n\u001b[1;32m    250\u001b[0m     \u001b[0;31m# calls in the traceback and some print out the last line\u001b[0m\u001b[0;34m\u001b[0m\u001b[0;34m\u001b[0m\u001b[0m\n\u001b[0;32m--> 251\u001b[0;31m     Variable._execution_engine.run_backward(  # Calls into the C++ engine to run the backward pass\n\u001b[0m\u001b[1;32m    252\u001b[0m         \u001b[0mtensors\u001b[0m\u001b[0;34m,\u001b[0m\u001b[0;34m\u001b[0m\u001b[0;34m\u001b[0m\u001b[0m\n\u001b[1;32m    253\u001b[0m         \u001b[0mgrad_tensors_\u001b[0m\u001b[0;34m,\u001b[0m\u001b[0;34m\u001b[0m\u001b[0;34m\u001b[0m\u001b[0m\n",
            "\u001b[0;31mKeyboardInterrupt\u001b[0m: "
          ]
        }
      ],
      "source": [
        "for episode in range(seed_episodes, all_episodes):\n",
        "    # -----------------------------\n",
        "    #      経験を集める\n",
        "    # -----------------------------\n",
        "    start = time.time()\n",
        "    # 行動を決定するためのエージェントを宣言\n",
        "    policy = Agent(encoder, rssm.transition, action_model)\n",
        "\n",
        "    env = make_env()\n",
        "    obs = env.reset()\n",
        "    done = False\n",
        "    total_reward = 0\n",
        "    while not done:\n",
        "        action = policy(obs)\n",
        "        # 探索のためにガウス分布に従うノイズを加える(explaration noise)\n",
        "        action += np.random.normal(0, np.sqrt(action_noise_var),\n",
        "                                     env.action_space.shape[0])\n",
        "        next_obs, reward, done, _ = env.step(action)\n",
        "\n",
        "        #リプレイバッファに観測，行動，報酬，doneを格納\n",
        "        replay_buffer.push(obs, action, reward, done)\n",
        "\n",
        "        obs = next_obs\n",
        "        total_reward += reward\n",
        "\n",
        "    # 訓練時の報酬と経過時間をログとして表示\n",
        "    writer.add_scalar('total reward at train', total_reward, episode)\n",
        "    print('episode [%4d/%4d] is collected. Total reward is %f' %\n",
        "            (episode+1, all_episodes, total_reward))\n",
        "    print('elasped time for interaction: %.2fs' % (time.time() - start))\n",
        "\n",
        "    # NNのパラメータを更新する\n",
        "    start = time.time()\n",
        "    for update_step in range(collect_interval):\n",
        "        # -------------------------------------------------------------------------------------\n",
        "        #  RSSM(trainsition_model, obs_model, reward_model)の更新 - Dynamics learning\n",
        "        # -------------------------------------------------------------------------------------\n",
        "        observations, actions, rewards, _ = \\\n",
        "            replay_buffer.sample(batch_size, chunk_length)\n",
        "\n",
        "        # 観測を前処理し，RNNを用いたPyTorchでの学習のためにTensorの次元を調整\n",
        "        observations = preprocess_obs(observations)\n",
        "        observations = torch.as_tensor(observations, device=device)\n",
        "        observations = observations.transpose(3, 4).transpose(2, 3)\n",
        "        observations = observations.transpose(0, 1)\n",
        "        actions = torch.as_tensor(actions, device=device).transpose(0, 1)\n",
        "        rewards = torch.as_tensor(rewards, device=device).transpose(0, 1)\n",
        "\n",
        "        # 観測をエンコーダで低次元のベクトルに変換\n",
        "        embedded_observations = encoder(\n",
        "            observations.reshape(-1, 3, 64, 64)).view(chunk_length, batch_size, -1)\n",
        "\n",
        "        # 低次元の状態表現を保持しておくためのTensorを定義\n",
        "        states = torch.zeros(chunk_length, batch_size, state_dim, device=device)\n",
        "        rnn_hiddens = torch.zeros(chunk_length, batch_size, rnn_hidden_dim, device=device)\n",
        "\n",
        "        # 低次元の状態表現は最初はゼロ初期化（timestep１つ分）\n",
        "        state = torch.zeros(batch_size, state_dim, device=device)\n",
        "        rnn_hidden = torch.zeros(batch_size, rnn_hidden_dim, device=device)\n",
        "\n",
        "        # 状態s_tの予測を行ってそのロスを計算する（priorとposteriorの間のKLダイバージェンス）\n",
        "        kl_loss = 0\n",
        "        for l in range(chunk_length-1):\n",
        "            next_state_prior, next_state_posterior, rnn_hidden = \\\n",
        "                rssm.transition(state, actions[l], rnn_hidden, embedded_observations[l+1])\n",
        "            state = next_state_posterior.rsample()\n",
        "            states[l+1] = state\n",
        "            rnn_hiddens[l+1] = rnn_hidden\n",
        "            kl = kl_divergence(next_state_prior, next_state_posterior).sum(dim=1) # WRITE ME （ヒント: kl_divergence()を使用）\n",
        "            kl_loss += kl.clamp(min=free_nats).mean()  # 原論文通り，KL誤差がfree_nats以下の時は無視\n",
        "        kl_loss /= (chunk_length - 1)\n",
        "\n",
        "        # states[0] and rnn_hiddens[0]はゼロ初期化なので以降では使わない\n",
        "        # states，rnn_hiddensは低次元の状態表現\n",
        "        states = states[1:]\n",
        "        rnn_hiddens = rnn_hiddens[1:]\n",
        "\n",
        "        # 観測を再構成，また，報酬を予測\n",
        "        flatten_states = states.view(-1, state_dim)\n",
        "        flatten_rnn_hiddens = rnn_hiddens.view(-1, rnn_hidden_dim)\n",
        "        recon_observations = rssm.observation(flatten_states, flatten_rnn_hiddens).view(chunk_length-1, batch_size, 3, 64, 64)\n",
        "        predicted_rewards = rssm.reward(flatten_states, flatten_rnn_hiddens).view(chunk_length-1, batch_size, 1)\n",
        "\n",
        "        # 観測と報酬の予測誤差を計算\n",
        "        obs_loss = 0.5 * F.mse_loss(recon_observations, observations[1:], reduction='none').mean([0, 1]).sum()\n",
        "        reward_loss = 0.5 * F.mse_loss(predicted_rewards, rewards[:-1])\n",
        "\n",
        "        # 以上のロスを合わせて勾配降下で更新する\n",
        "        model_loss = kl_loss + obs_loss + reward_loss\n",
        "        model_optimizer.zero_grad()\n",
        "        model_loss.backward()\n",
        "        clip_grad_norm_(model_params, clip_grad_norm)\n",
        "        model_optimizer.step()\n",
        "\n",
        "        # --------------------------------------------------\n",
        "        #  Action Model, Value　Modelの更新　- Behavior learning\n",
        "        # --------------------------------------------------\n",
        "        # Actor-Criticのロスで他のモデルを更新することはないので勾配の流れを一度遮断\n",
        "        # flatten_states, flatten_rnn_hiddensは RSSMから得られた低次元の状態表現を平坦化した値\n",
        "        flatten_states = flatten_states.detach()\n",
        "        flatten_rnn_hiddens = flatten_rnn_hiddens.detach()\n",
        "\n",
        "        # DreamerにおけるActor-Criticの更新のために，現在のモデルを用いた\n",
        "        # 数ステップ先の未来の状態予測を保持するためのTensorを用意\n",
        "        imagined_states = torch.zeros(imagination_horizon + 1,\n",
        "                                         *flatten_states.shape,\n",
        "                                          device=flatten_states.device)\n",
        "        imagined_rnn_hiddens = torch.zeros(imagination_horizon + 1,\n",
        "                                                *flatten_rnn_hiddens.shape,\n",
        "                                                device=flatten_rnn_hiddens.device)\n",
        "\n",
        "        #　未来予測をして想像上の軌道を作る前に，最初の状態としては先ほどモデルの更新で使っていた\n",
        "        # リプレイバッファからサンプルされた観測データを取り込んだ上で推論した状態表現を使う\n",
        "        imagined_states[0] = flatten_states\n",
        "        imagined_rnn_hiddens[0] = flatten_rnn_hiddens\n",
        "\n",
        "        # open-loopで未来の状態予測を使い，想像上の軌道を作る\n",
        "        for h in range(1, imagination_horizon + 1):\n",
        "            # 行動はActionModelで決定．この行動はモデルのパラメータに対して微分可能で,\n",
        "            #　これを介してActionModelは更新される\n",
        "            actions = action_model(flatten_states, flatten_rnn_hiddens)\n",
        "            flatten_states_prior, flatten_rnn_hiddens = rssm.transition.prior(rssm.transition.recurrent(flatten_states,\n",
        "                                                                   actions,\n",
        "                                                                   flatten_rnn_hiddens))\n",
        "            flatten_states = flatten_states_prior.rsample()\n",
        "            imagined_states[h] = flatten_states\n",
        "            imagined_rnn_hiddens[h] = flatten_rnn_hiddens\n",
        "\n",
        "        # RSSMのreward_modelにより予測された架空の軌道に対する報酬を計算\n",
        "        flatten_imagined_states = imagined_states.view(-1, state_dim)\n",
        "        flatten_imagined_rnn_hiddens = imagined_rnn_hiddens.view(-1, rnn_hidden_dim)\n",
        "        imagined_rewards = \\\n",
        "            rssm.reward(flatten_imagined_states,\n",
        "                        flatten_imagined_rnn_hiddens).view(imagination_horizon + 1, -1)\n",
        "        imagined_values = \\\n",
        "            value_model(flatten_imagined_states,\n",
        "                        flatten_imagined_rnn_hiddens).view(imagination_horizon + 1, -1)\n",
        "\n",
        "        # λ-returnのターゲットを計算(V_{\\lambda}(s_{\\tau})\n",
        "        lambda_target_values = lambda_target(imagined_rewards, imagined_values, gamma, lambda_) # WRITE ME （ヒント: lambda_target()を利用）\n",
        "\n",
        "        # 価値関数の予測した価値が大きくなるようにActionModelを更新\n",
        "        # PyTorchの基本は勾配降下だが，今回は大きくしたいので-1をかける\n",
        "        action_loss = -lambda_target_values.mean()\n",
        "        action_optimizer.zero_grad()\n",
        "        action_loss.backward()\n",
        "        clip_grad_norm_(action_model.parameters(), clip_grad_norm)\n",
        "        action_optimizer.step()\n",
        "\n",
        "        # TD(λ)ベースの目的関数で価値関数を更新（価値関数のみを学習するため，学習しない変数のグラフは切っている．)\n",
        "        imagined_values = value_model(flatten_imagined_states.detach(), flatten_imagined_rnn_hiddens.detach()).view(imagination_horizon + 1, -1)\n",
        "        value_loss = 0.5 * F.mse_loss(imagined_values, lambda_target_values.detach()) # WRITE ME （ヒント: 0.5 * F.mse_loss()を使用）\n",
        "        value_optimizer.zero_grad()\n",
        "        value_loss.backward()\n",
        "        clip_grad_norm_(value_model.parameters(), clip_grad_norm)\n",
        "        value_optimizer.step()\n",
        "\n",
        "        # ログをTensorBoardに出力\n",
        "        print('update_step: %3d model loss: %.5f, kl_loss: %.5f, '\n",
        "             'obs_loss: %.5f, reward_loss: %.5f, '\n",
        "             'value_loss: %.5f action_loss: %.5f'\n",
        "                % (update_step + 1, model_loss.item(), kl_loss.item(),\n",
        "                    obs_loss.item(), reward_loss.item(),\n",
        "                    value_loss.item(), action_loss.item()))\n",
        "        total_update_step = episode * collect_interval + update_step\n",
        "        writer.add_scalar('model loss', model_loss.item(), total_update_step)\n",
        "        writer.add_scalar('kl loss', kl_loss.item(), total_update_step)\n",
        "        writer.add_scalar('obs loss', obs_loss.item(), total_update_step)\n",
        "        writer.add_scalar('reward loss', reward_loss.item(), total_update_step)\n",
        "        writer.add_scalar('value loss', value_loss.item(), total_update_step)\n",
        "        writer.add_scalar('action loss', action_loss.item(), total_update_step)\n",
        "\n",
        "    print('elasped time for update: %.2fs' % (time.time() - start))\n",
        "\n",
        "    # --------------------------------------------------------------\n",
        "    #    テストフェーズ．探索ノイズなしでの性能を評価する\n",
        "    # --------------------------------------------------------------\n",
        "    if (episode + 1) % test_interval == 0:\n",
        "        policy = Agent(encoder, rssm.transition, action_model)\n",
        "        start = time.time()\n",
        "        obs = env.reset()\n",
        "        done = False\n",
        "        total_reward = 0\n",
        "        while not done:\n",
        "            action = policy(obs, training=False)\n",
        "            obs, reward, done, _ = env.step(action)\n",
        "            total_reward += reward\n",
        "\n",
        "        writer.add_scalar('total reward at test', total_reward, episode)\n",
        "        print('Total test reward at episode [%4d/%4d] is %f' %\n",
        "                (episode+1, all_episodes, total_reward))\n",
        "        print('elasped time for test: %.2fs' % (time.time() - start))\n",
        "\n",
        "    if (episode + 1) % model_save_interval == 0:\n",
        "        # 定期的に学習済みモデルのパラメータを保存する\n",
        "        model_log_dir = os.path.join(log_dir, 'episode_%04d' % (episode + 1))\n",
        "        os.makedirs(model_log_dir)\n",
        "        torch.save(encoder.state_dict(), os.path.join(model_log_dir, 'encoder.pth'))\n",
        "        torch.save(rssm.transition.state_dict(), os.path.join(model_log_dir, 'rssm.pth'))\n",
        "        torch.save(rssm.observation.state_dict(), os.path.join(model_log_dir, 'obs_model.pth'))\n",
        "        torch.save(rssm.reward.state_dict(), os.path.join(model_log_dir, 'reward_model.pth'))\n",
        "        torch.save(value_model.state_dict(), os.path.join(model_log_dir, 'value_model.pth'))\n",
        "        torch.save(action_model.state_dict(), os.path.join(model_log_dir, 'action_model.pth'))\n",
        "    del env\n",
        "    gc.collect()\n",
        "\n",
        "writer.close()"
      ]
    },
    {
      "cell_type": "markdown",
      "metadata": {
        "id": "NFMZzNPU_B-l"
      },
      "source": [
        "TensorBoardで学習結果を確認してみます．"
      ]
    },
    {
      "cell_type": "code",
      "execution_count": null,
      "metadata": {
        "id": "aTJL-DXo-omv"
      },
      "outputs": [],
      "source": [
        "%tensorboard --logdir='./logs'"
      ]
    },
    {
      "cell_type": "markdown",
      "metadata": {
        "id": "E3F2tAU0kepm"
      },
      "source": [
        "##  10.結果の確認\n",
        "保存された学習済み重みを用いて，動作を確認してみましょう."
      ]
    },
    {
      "cell_type": "markdown",
      "metadata": {
        "id": "GnfmCGFFAV0q"
      },
      "source": [
        "学習にはかなりの時間がかかるので，ここでは事前に学習しておいた重みを読み込むことにします．時間のある方は，上記のコードで実際に学習した重みを使って同様に試してみてください."
      ]
    },
    {
      "cell_type": "code",
      "execution_count": 31,
      "metadata": {
        "id": "PGif3TtyilSY",
        "colab": {
          "base_uri": "https://localhost:8080/"
        },
        "outputId": "99b1281b-f5c2-4526-ed24-9c31451a3951"
      },
      "outputs": [
        {
          "output_type": "stream",
          "name": "stdout",
          "text": [
            "Downloading 15l6-EsNMD0Xn95x_278-ZnQ30GtmCaAx into ./episode_0100.zip... Done.\n",
            "Unzipping...Done.\n"
          ]
        }
      ],
      "source": [
        "# 事前にGoogle Driveにあげておいた学習済み重みをダウンロードします\n",
        "from google_drive_downloader import GoogleDriveDownloader as gdd\n",
        "\n",
        "file_id = \"15l6-EsNMD0Xn95x_278-ZnQ30GtmCaAx\"  # Google Driveにあげた学習済重みのfile idを取得してここにコピペしてください\n",
        "gdd.download_file_from_google_drive(\n",
        "    file_id=file_id, dest_path=\"./episode_0100.zip\", unzip=True\n",
        ")"
      ]
    },
    {
      "cell_type": "code",
      "execution_count": 32,
      "metadata": {
        "id": "hKYF5zP6ALD3",
        "colab": {
          "base_uri": "https://localhost:8080/"
        },
        "outputId": "bae108d6-00a9-4662-ae2a-ad69e0e421b4"
      },
      "outputs": [
        {
          "output_type": "execute_result",
          "data": {
            "text/plain": [
              "<All keys matched successfully>"
            ]
          },
          "metadata": {},
          "execution_count": 32
        }
      ],
      "source": [
        "encoder.load_state_dict(torch.load(\"./episode_0100/encoder.pth\"))\n",
        "rssm.transition.load_state_dict(torch.load(\"./episode_0100/rssm.pth\"))\n",
        "rssm.observation.load_state_dict(torch.load(\"./episode_0100/obs_model.pth\"))\n",
        "action_model.load_state_dict(torch.load(\"./episode_0100/action_model.pth\"))"
      ]
    },
    {
      "cell_type": "code",
      "execution_count": 35,
      "metadata": {
        "id": "MSt_P-WdEnmO",
        "colab": {
          "base_uri": "https://localhost:8080/",
          "height": 245
        },
        "outputId": "622ad059-43b6-412c-ffb6-f5b55823d279"
      },
      "outputs": [
        {
          "output_type": "error",
          "ename": "NameError",
          "evalue": "ignored",
          "traceback": [
            "\u001b[0;31m---------------------------------------------------------------------------\u001b[0m",
            "\u001b[0;31mNameError\u001b[0m                                 Traceback (most recent call last)",
            "\u001b[0;32m<ipython-input-35-a6c2a9114db2>\u001b[0m in \u001b[0;36m<cell line: 3>\u001b[0;34m()\u001b[0m\n\u001b[1;32m      1\u001b[0m \u001b[0;31m# 学習済み重みを用いず，このcolab上で学習したモデルを使うなら，このセルを実行してください．\u001b[0m\u001b[0;34m\u001b[0m\u001b[0;34m\u001b[0m\u001b[0m\n\u001b[1;32m      2\u001b[0m \u001b[0;31m# あるいは，定期的に保存されているモデルを読み込むこともできます\u001b[0m\u001b[0;34m\u001b[0m\u001b[0;34m\u001b[0m\u001b[0m\n\u001b[0;32m----> 3\u001b[0;31m \u001b[0mencoder\u001b[0m\u001b[0;34m.\u001b[0m\u001b[0mload_state_dict\u001b[0m\u001b[0;34m(\u001b[0m\u001b[0mtorch\u001b[0m\u001b[0;34m.\u001b[0m\u001b[0mload\u001b[0m\u001b[0;34m(\u001b[0m\u001b[0mos\u001b[0m\u001b[0;34m.\u001b[0m\u001b[0mpath\u001b[0m\u001b[0;34m.\u001b[0m\u001b[0mjoin\u001b[0m\u001b[0;34m(\u001b[0m\u001b[0mmodel_log_dir\u001b[0m\u001b[0;34m,\u001b[0m \u001b[0;34m\"encoder.pth\"\u001b[0m\u001b[0;34m)\u001b[0m\u001b[0;34m)\u001b[0m\u001b[0;34m)\u001b[0m\u001b[0;34m\u001b[0m\u001b[0;34m\u001b[0m\u001b[0m\n\u001b[0m\u001b[1;32m      4\u001b[0m \u001b[0mrssm\u001b[0m\u001b[0;34m.\u001b[0m\u001b[0mtransition\u001b[0m\u001b[0;34m.\u001b[0m\u001b[0mload_state_dict\u001b[0m\u001b[0;34m(\u001b[0m\u001b[0mtorch\u001b[0m\u001b[0;34m.\u001b[0m\u001b[0mload\u001b[0m\u001b[0;34m(\u001b[0m\u001b[0mos\u001b[0m\u001b[0;34m.\u001b[0m\u001b[0mpath\u001b[0m\u001b[0;34m.\u001b[0m\u001b[0mjoin\u001b[0m\u001b[0;34m(\u001b[0m\u001b[0mmodel_log_dir\u001b[0m\u001b[0;34m,\u001b[0m \u001b[0;34m\"rssm.pth\"\u001b[0m\u001b[0;34m)\u001b[0m\u001b[0;34m)\u001b[0m\u001b[0;34m)\u001b[0m\u001b[0;34m\u001b[0m\u001b[0;34m\u001b[0m\u001b[0m\n\u001b[1;32m      5\u001b[0m rssm.observation.load_state_dict(\n",
            "\u001b[0;31mNameError\u001b[0m: name 'model_log_dir' is not defined"
          ]
        }
      ],
      "source": [
        "# 学習済み重みを用いず，このcolab上で学習したモデルを使うなら，このセルを実行してください．\n",
        "# あるいは，定期的に保存されているモデルを読み込むこともできます\n",
        "encoder.load_state_dict(torch.load(os.path.join(model_log_dir, \"encoder.pth\")))\n",
        "rssm.transition.load_state_dict(torch.load(os.path.join(model_log_dir, \"rssm.pth\")))\n",
        "rssm.observation.load_state_dict(\n",
        "    torch.load(os.path.join(model_log_dir, \"obs_model.pth\"))\n",
        ")\n",
        "action_model.load_state_dict(\n",
        "    torch.load(os.path.join(model_log_dir, \"action_model.pth\"))\n",
        ")"
      ]
    },
    {
      "cell_type": "markdown",
      "metadata": {
        "id": "0fCAGLBjGaDz"
      },
      "source": [
        "動作の様子を動画で観てみることにします．"
      ]
    },
    {
      "cell_type": "code",
      "execution_count": null,
      "metadata": {
        "id": "phTlvvC8GZdU"
      },
      "outputs": [],
      "source": [
        "# 結果を動画で観てみるための関数\n",
        "import matplotlib.pyplot as plt\n",
        "from IPython.display import HTML\n",
        "from matplotlib import animation\n",
        "\n",
        "\n",
        "def display_video(frames: List[np.ndarray]) -> None:\n",
        "    \"\"\"\n",
        "    結果を動画にするための関数．\n",
        "\n",
        "    frames : List[np.ndarray]\n",
        "        観測画像をリスト化したもの．\n",
        "    \"\"\"\n",
        "    plt.figure(figsize=(8, 8), dpi=50)\n",
        "    patch = plt.imshow(frames[0])\n",
        "    plt.axis(\"off\")\n",
        "\n",
        "    def animate(i):\n",
        "        patch.set_data(frames[i])\n",
        "        plt.title(\"Step %d\" % (i))\n",
        "\n",
        "    anim = animation.FuncAnimation(plt.gcf(), animate, frames=len(frames), interval=50)\n",
        "    display(HTML(anim.to_jshtml(default_mode=\"once\")))\n",
        "    plt.close()"
      ]
    },
    {
      "cell_type": "code",
      "execution_count": null,
      "metadata": {
        "id": "5Tsrk0bfEXpO"
      },
      "outputs": [],
      "source": [
        "env = make_env()\n",
        "policy = Agent(encoder, rssm.transition, action_model)\n",
        "obs = env.reset()\n",
        "done = False\n",
        "total_reward = 0\n",
        "frames = [obs]\n",
        "while not done:\n",
        "    action = policy(obs, training=False)\n",
        "    obs, reward, done, _ = env.step(action)\n",
        "    total_reward += reward\n",
        "    frames.append(obs)\n",
        "\n",
        "print(\"Total Reward:\", total_reward)"
      ]
    },
    {
      "cell_type": "code",
      "execution_count": null,
      "metadata": {
        "id": "QN-6pLFxG6sz"
      },
      "outputs": [],
      "source": [
        "display_video(frames)"
      ]
    },
    {
      "cell_type": "markdown",
      "metadata": {
        "id": "62nJ7xoek-RU"
      },
      "source": [
        "ある時点の適当な観測から，世界モデルで**open-loop**に未来予測を行わせ，観測を再構成して視覚的に観てみましょう．"
      ]
    },
    {
      "cell_type": "code",
      "execution_count": null,
      "metadata": {
        "id": "fUYvdbwSlDo_"
      },
      "outputs": [],
      "source": [
        "policy = Agent(encoder, rssm.transition, action_model)\n",
        "obs = env.reset()\n",
        "# 最初に適当な回数行動します．この間にrnn_hiddenに観測の系列に関する情報が蓄積されます\n",
        "for _ in range(np.random.randint(5, 100)):\n",
        "    action = policy(obs, training=False)\n",
        "    obs, _, _, _ = env.step(action)\n",
        "\n",
        "# 現在の観測をベクトルに変換し，それを元にposteriorを計算します．\n",
        "preprocessed_obs = preprocess_obs(obs)\n",
        "preprocessed_obs = torch.as_tensor(preprocessed_obs, device=device)\n",
        "preprocessed_obs = preprocessed_obs.transpose(1, 2).transpose(0, 1).unsqueeze(0)\n",
        "with torch.no_grad():\n",
        "    embedded_obs = encoder(preprocessed_obs)\n",
        "\n",
        "# posteriorからのサンプルとして得られたstateと，policyから取得したrnn_hiddenが低次元の状態表現です．\n",
        "# open-loopの予測なので，これ以降この2つの変数は状態遷移を表すpriorでしか更新しません．\n",
        "# （policyの中では，行動を決定するために観測をリアルタイムで反映してposteriorで更新しています）\n",
        "rnn_hidden = policy.rnn_hidden\n",
        "state = rssm.transition.posterior(rnn_hidden, embedded_obs).sample()\n",
        "frame = np.zeros((64, 128, 3))\n",
        "frames = []\n",
        "\n",
        "prediction_length = 100\n",
        "for _ in range(prediction_length):\n",
        "    action = policy(obs)\n",
        "    obs, _, _, _ = env.step(action)\n",
        "\n",
        "    action = torch.as_tensor(action, device=device).unsqueeze(0)\n",
        "    with torch.no_grad():\n",
        "        state_prior, rnn_hidden = rssm.transition.prior(\n",
        "            rssm.transition.recurrent(state, action, rnn_hidden)\n",
        "        )\n",
        "        state = state_prior.sample()\n",
        "        predicted_obs = rssm.observation(\n",
        "            state, rnn_hidden\n",
        "        )  # obs_model(state, rnn_hidden)\n",
        "\n",
        "    frame[:, :64, :] = preprocess_obs(obs)\n",
        "    frame[:, 64:, :] = (\n",
        "        predicted_obs.squeeze().transpose(0, 1).transpose(1, 2).cpu().numpy()\n",
        "    )\n",
        "    frames.append((frame + 0.5).clip(0.0, 1.0))"
      ]
    },
    {
      "cell_type": "markdown",
      "metadata": {
        "id": "HeH7vX0zLS-P"
      },
      "source": [
        "open-loopの動画予測の結果を，左側に真のフレーム，右側に予測されたフレームと並べてみてみましょう．"
      ]
    },
    {
      "cell_type": "code",
      "execution_count": null,
      "metadata": {
        "id": "hG9EWSvrDFJ0"
      },
      "outputs": [],
      "source": [
        "display_video(frames)"
      ]
    },
    {
      "cell_type": "markdown",
      "metadata": {
        "id": "4K0slk_dLPVJ"
      },
      "source": [
        "以上で演習は終わりです．お疲れ様でした！"
      ]
    },
    {
      "cell_type": "markdown",
      "metadata": {
        "id": "J_PCEOJ69prx"
      },
      "source": [
        "## 11.参考文献\n",
        "[[1]](https://arxiv.org/pdf/1811.04551.pdf) Danijar Hafner, Timothy Lillicrap, Ian Fischer, Ruben Villegas, David Ha, \"Learning Latent Dynamics for Planning from Pixels\", arXiv, 2019\n",
        "\n",
        "[[2]](https://arxiv.org/abs/1912.01603) Danijar Hafner, Timothy Lillicrap, Jimmy Ba, Mohammad Norouzi,\n",
        "\"Dream to Control: Learning Behaviors by Latent Imagination\", ICLR2020"
      ]
    }
  ],
  "metadata": {
    "colab": {
      "provenance": [],
      "gpuType": "T4"
    },
    "kernelspec": {
      "display_name": "Python 3",
      "name": "python3"
    },
    "language_info": {
      "codemirror_mode": {
        "name": "ipython",
        "version": 3
      },
      "file_extension": ".py",
      "mimetype": "text/x-python",
      "name": "python",
      "nbconvert_exporter": "python",
      "pygments_lexer": "ipython3",
      "version": "3.8.10"
    },
    "vscode": {
      "interpreter": {
        "hash": "1c906a337007ca492b40f9e66323e61f3dcaf71886120485625fb02da1be1aa9"
      }
    },
    "accelerator": "GPU"
  },
  "nbformat": 4,
  "nbformat_minor": 0
}